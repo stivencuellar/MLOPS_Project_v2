{
  "cells": [
    {
      "cell_type": "markdown",
      "metadata": {
        "id": "dNAc_EZ02xpK"
      },
      "source": [
        "# **REGRESIÓN MULTIPLE**"
      ]
    },
    {
      "cell_type": "code",
      "execution_count": 1,
      "metadata": {},
      "outputs": [
        {
          "name": "stderr",
          "output_type": "stream",
          "text": [
            "c:\\Users\\eliana\\AppData\\Local\\Programs\\Python\\Python313\\Lib\\site-packages\\tqdm\\auto.py:21: TqdmWarning: IProgress not found. Please update jupyter and ipywidgets. See https://ipywidgets.readthedocs.io/en/stable/user_install.html\n",
            "  from .autonotebook import tqdm as notebook_tqdm\n"
          ]
        }
      ],
      "source": [
        "import os\n",
        "import pandas as pd\n",
        "import pickle\n",
        "import urllib.request\n",
        "import kagglehub\n",
        "import shutil\n",
        "import numpy as np\n",
        "import pandas as pd\n",
        "import matplotlib.pyplot as plt #Graficar\n",
        "import matplotlib.pyplot as plt\n",
        "import seaborn as sns\n",
        "from collections import Counter\n",
        "import math\n",
        "import logging\n",
        "from sklearn.feature_extraction import DictVectorizer\n",
        "from sklearn.metrics import mean_squared_error, mean_absolute_error, r2_score\n",
        "from sklearn.preprocessing import StandardScaler,LabelEncoder\n",
        "from sklearn import linear_model\n",
        "from sklearn.model_selection import train_test_split\n",
        "from sklearn.metrics import max_error\n",
        "from sklearn.metrics import mean_absolute_error\n",
        "from sklearn.decomposition import PCA\n",
        "import statsmodels.api as sm\n",
        "from statsmodels.stats.diagnostic import linear_reset\n",
        "from statsmodels.stats.outliers_influence import variance_inflation_factor\n",
        "from statsmodels.stats.diagnostic import het_white\n",
        "from statsmodels.sandbox.stats.runs import runstest_1samp\n",
        "import mlflow\n",
        "from scipy.stats import kstest\n",
        "from factor_analyzer import FactorAnalyzer\n",
        "from factor_analyzer.factor_analyzer import calculate_kmo\n",
        "from factor_analyzer.factor_analyzer import calculate_bartlett_sphericity\n",
        "import networkx as nx\n"
      ]
    },
    {
      "cell_type": "code",
      "execution_count": 2,
      "metadata": {},
      "outputs": [
        {
          "name": "stdout",
          "output_type": "stream",
          "text": [
            "Dataset guardado en: MLOPS_Project/data\n"
          ]
        }
      ],
      "source": [
        "# Descargar dataset con kagglehub (lo guarda en cache interna)\n",
        "path = kagglehub.dataset_download(\"ranjeetjain3/seaborn-tips-dataset\")\n",
        "\n",
        "# Copiar el dataset descargado a la ruta que definida\n",
        "destino = \"MLOPS_Project/data\"\n",
        "shutil.copytree(path, destino, dirs_exist_ok=True)\n",
        "\n",
        "print(\"Dataset guardado en:\", destino)"
      ]
    },
    {
      "cell_type": "code",
      "execution_count": 3,
      "metadata": {
        "colab": {
          "base_uri": "https://localhost:8080/"
        },
        "id": "xXKkUaOTrJXO",
        "outputId": "bc219384-7402-45d5-f602-8c8cc4b192cf"
      },
      "outputs": [
        {
          "name": "stdout",
          "output_type": "stream",
          "text": [
            "Requirement already satisfied: factor_analyzer in c:\\users\\eliana\\appdata\\local\\programs\\python\\python313\\lib\\site-packages (0.5.1)Note: you may need to restart the kernel to use updated packages.\n",
            "\n",
            "Requirement already satisfied: pandas in c:\\users\\eliana\\appdata\\local\\programs\\python\\python313\\lib\\site-packages (from factor_analyzer) (2.3.3)\n",
            "Requirement already satisfied: scipy in c:\\users\\eliana\\appdata\\local\\programs\\python\\python313\\lib\\site-packages (from factor_analyzer) (1.15.2)\n",
            "Requirement already satisfied: numpy in c:\\users\\eliana\\appdata\\local\\programs\\python\\python313\\lib\\site-packages (from factor_analyzer) (2.2.3)\n",
            "Requirement already satisfied: scikit-learn in c:\\users\\eliana\\appdata\\local\\programs\\python\\python313\\lib\\site-packages (from factor_analyzer) (1.6.1)\n",
            "Requirement already satisfied: python-dateutil>=2.8.2 in c:\\users\\eliana\\appdata\\roaming\\python\\python313\\site-packages (from pandas->factor_analyzer) (2.9.0.post0)\n",
            "Requirement already satisfied: pytz>=2020.1 in c:\\users\\eliana\\appdata\\local\\programs\\python\\python313\\lib\\site-packages (from pandas->factor_analyzer) (2025.1)\n",
            "Requirement already satisfied: tzdata>=2022.7 in c:\\users\\eliana\\appdata\\local\\programs\\python\\python313\\lib\\site-packages (from pandas->factor_analyzer) (2025.1)\n",
            "Requirement already satisfied: joblib>=1.2.0 in c:\\users\\eliana\\appdata\\local\\programs\\python\\python313\\lib\\site-packages (from scikit-learn->factor_analyzer) (1.4.2)\n",
            "Requirement already satisfied: threadpoolctl>=3.1.0 in c:\\users\\eliana\\appdata\\local\\programs\\python\\python313\\lib\\site-packages (from scikit-learn->factor_analyzer) (3.6.0)\n",
            "Requirement already satisfied: six>=1.5 in c:\\users\\eliana\\appdata\\roaming\\python\\python313\\site-packages (from python-dateutil>=2.8.2->pandas->factor_analyzer) (1.17.0)\n"
          ]
        },
        {
          "name": "stderr",
          "output_type": "stream",
          "text": [
            "\n",
            "[notice] A new release of pip is available: 24.3.1 -> 25.2\n",
            "[notice] To update, run: python.exe -m pip install --upgrade pip\n"
          ]
        },
        {
          "name": "stdout",
          "output_type": "stream",
          "text": [
            "Requirement already satisfied: networkx in c:\\users\\eliana\\appdata\\local\\programs\\python\\python313\\lib\\site-packages (3.5)\n",
            "Note: you may need to restart the kernel to use updated packages.\n"
          ]
        },
        {
          "name": "stderr",
          "output_type": "stream",
          "text": [
            "\n",
            "[notice] A new release of pip is available: 24.3.1 -> 25.2\n",
            "[notice] To update, run: python.exe -m pip install --upgrade pip\n"
          ]
        },
        {
          "name": "stdout",
          "output_type": "stream",
          "text": [
            "Requirement already satisfied: mlflow in c:\\users\\eliana\\appdata\\local\\programs\\python\\python313\\lib\\site-packages (3.4.0)Note: you may need to restart the kernel to use updated packages.\n",
            "\n",
            "Requirement already satisfied: mlflow-skinny==3.4.0 in c:\\users\\eliana\\appdata\\local\\programs\\python\\python313\\lib\\site-packages (from mlflow) (3.4.0)\n",
            "Requirement already satisfied: mlflow-tracing==3.4.0 in c:\\users\\eliana\\appdata\\local\\programs\\python\\python313\\lib\\site-packages (from mlflow) (3.4.0)\n",
            "Requirement already satisfied: Flask<4 in c:\\users\\eliana\\appdata\\local\\programs\\python\\python313\\lib\\site-packages (from mlflow) (3.1.2)\n",
            "Requirement already satisfied: alembic!=1.10.0,<2 in c:\\users\\eliana\\appdata\\local\\programs\\python\\python313\\lib\\site-packages (from mlflow) (1.16.5)\n",
            "Requirement already satisfied: cryptography<46,>=43.0.0 in c:\\users\\eliana\\appdata\\local\\programs\\python\\python313\\lib\\site-packages (from mlflow) (45.0.7)\n",
            "Requirement already satisfied: docker<8,>=4.0.0 in c:\\users\\eliana\\appdata\\local\\programs\\python\\python313\\lib\\site-packages (from mlflow) (7.1.0)\n",
            "Requirement already satisfied: fastmcp<3,>=2.0.0 in c:\\users\\eliana\\appdata\\local\\programs\\python\\python313\\lib\\site-packages (from mlflow) (2.12.4)\n",
            "Requirement already satisfied: graphene<4 in c:\\users\\eliana\\appdata\\local\\programs\\python\\python313\\lib\\site-packages (from mlflow) (3.4.3)\n",
            "Requirement already satisfied: matplotlib<4 in c:\\users\\eliana\\appdata\\local\\programs\\python\\python313\\lib\\site-packages (from mlflow) (3.10.1)\n",
            "Requirement already satisfied: numpy<3 in c:\\users\\eliana\\appdata\\local\\programs\\python\\python313\\lib\\site-packages (from mlflow) (2.2.3)\n",
            "Requirement already satisfied: pandas<3 in c:\\users\\eliana\\appdata\\local\\programs\\python\\python313\\lib\\site-packages (from mlflow) (2.3.3)\n",
            "Requirement already satisfied: pyarrow<22,>=4.0.0 in c:\\users\\eliana\\appdata\\local\\programs\\python\\python313\\lib\\site-packages (from mlflow) (21.0.0)\n",
            "Requirement already satisfied: scikit-learn<2 in c:\\users\\eliana\\appdata\\local\\programs\\python\\python313\\lib\\site-packages (from mlflow) (1.6.1)\n",
            "Requirement already satisfied: scipy<2 in c:\\users\\eliana\\appdata\\local\\programs\\python\\python313\\lib\\site-packages (from mlflow) (1.15.2)\n",
            "Requirement already satisfied: sqlalchemy<3,>=1.4.0 in c:\\users\\eliana\\appdata\\local\\programs\\python\\python313\\lib\\site-packages (from mlflow) (2.0.43)\n",
            "Requirement already satisfied: waitress<4 in c:\\users\\eliana\\appdata\\local\\programs\\python\\python313\\lib\\site-packages (from mlflow) (3.0.2)\n",
            "Requirement already satisfied: cachetools<7,>=5.0.0 in c:\\users\\eliana\\appdata\\local\\programs\\python\\python313\\lib\\site-packages (from mlflow-skinny==3.4.0->mlflow) (6.2.0)\n",
            "Requirement already satisfied: click<9,>=7.0 in c:\\users\\eliana\\appdata\\local\\programs\\python\\python313\\lib\\site-packages (from mlflow-skinny==3.4.0->mlflow) (8.3.0)\n",
            "Requirement already satisfied: cloudpickle<4 in c:\\users\\eliana\\appdata\\local\\programs\\python\\python313\\lib\\site-packages (from mlflow-skinny==3.4.0->mlflow) (3.1.1)\n",
            "Requirement already satisfied: databricks-sdk<1,>=0.20.0 in c:\\users\\eliana\\appdata\\local\\programs\\python\\python313\\lib\\site-packages (from mlflow-skinny==3.4.0->mlflow) (0.67.0)\n",
            "Requirement already satisfied: fastapi<1 in c:\\users\\eliana\\appdata\\local\\programs\\python\\python313\\lib\\site-packages (from mlflow-skinny==3.4.0->mlflow) (0.118.0)\n",
            "Requirement already satisfied: gitpython<4,>=3.1.9 in c:\\users\\eliana\\appdata\\local\\programs\\python\\python313\\lib\\site-packages (from mlflow-skinny==3.4.0->mlflow) (3.1.45)\n",
            "Requirement already satisfied: importlib_metadata!=4.7.0,<9,>=3.7.0 in c:\\users\\eliana\\appdata\\local\\programs\\python\\python313\\lib\\site-packages (from mlflow-skinny==3.4.0->mlflow) (8.7.0)\n",
            "Requirement already satisfied: opentelemetry-api<3,>=1.9.0 in c:\\users\\eliana\\appdata\\local\\programs\\python\\python313\\lib\\site-packages (from mlflow-skinny==3.4.0->mlflow) (1.37.0)\n",
            "Requirement already satisfied: opentelemetry-proto<3,>=1.9.0 in c:\\users\\eliana\\appdata\\local\\programs\\python\\python313\\lib\\site-packages (from mlflow-skinny==3.4.0->mlflow) (1.37.0)\n",
            "Requirement already satisfied: opentelemetry-sdk<3,>=1.9.0 in c:\\users\\eliana\\appdata\\local\\programs\\python\\python313\\lib\\site-packages (from mlflow-skinny==3.4.0->mlflow) (1.37.0)\n",
            "Requirement already satisfied: packaging<26 in c:\\users\\eliana\\appdata\\roaming\\python\\python313\\site-packages (from mlflow-skinny==3.4.0->mlflow) (24.2)\n",
            "Requirement already satisfied: protobuf<7,>=3.12.0 in c:\\users\\eliana\\appdata\\local\\programs\\python\\python313\\lib\\site-packages (from mlflow-skinny==3.4.0->mlflow) (6.32.1)\n",
            "Requirement already satisfied: pydantic<3,>=1.10.8 in c:\\users\\eliana\\appdata\\local\\programs\\python\\python313\\lib\\site-packages (from mlflow-skinny==3.4.0->mlflow) (2.11.9)\n",
            "Requirement already satisfied: python-dotenv<2,>=0.19.0 in c:\\users\\eliana\\appdata\\local\\programs\\python\\python313\\lib\\site-packages (from mlflow-skinny==3.4.0->mlflow) (1.1.1)\n",
            "Requirement already satisfied: pyyaml<7,>=5.1 in c:\\users\\eliana\\appdata\\local\\programs\\python\\python313\\lib\\site-packages (from mlflow-skinny==3.4.0->mlflow) (6.0.3)\n",
            "Requirement already satisfied: requests<3,>=2.17.3 in c:\\users\\eliana\\appdata\\local\\programs\\python\\python313\\lib\\site-packages (from mlflow-skinny==3.4.0->mlflow) (2.32.5)\n",
            "Requirement already satisfied: sqlparse<1,>=0.4.0 in c:\\users\\eliana\\appdata\\local\\programs\\python\\python313\\lib\\site-packages (from mlflow-skinny==3.4.0->mlflow) (0.5.3)\n",
            "Requirement already satisfied: typing-extensions<5,>=4.0.0 in c:\\users\\eliana\\appdata\\local\\programs\\python\\python313\\lib\\site-packages (from mlflow-skinny==3.4.0->mlflow) (4.15.0)\n",
            "Requirement already satisfied: uvicorn<1 in c:\\users\\eliana\\appdata\\local\\programs\\python\\python313\\lib\\site-packages (from mlflow-skinny==3.4.0->mlflow) (0.37.0)\n",
            "Requirement already satisfied: Mako in c:\\users\\eliana\\appdata\\local\\programs\\python\\python313\\lib\\site-packages (from alembic!=1.10.0,<2->mlflow) (1.3.10)\n",
            "Requirement already satisfied: cffi>=1.14 in c:\\users\\eliana\\appdata\\roaming\\python\\python313\\site-packages (from cryptography<46,>=43.0.0->mlflow) (2.0.0)\n",
            "Requirement already satisfied: pywin32>=304 in c:\\users\\eliana\\appdata\\local\\programs\\python\\python313\\lib\\site-packages (from docker<8,>=4.0.0->mlflow) (311)\n",
            "Requirement already satisfied: urllib3>=1.26.0 in c:\\users\\eliana\\appdata\\local\\programs\\python\\python313\\lib\\site-packages (from docker<8,>=4.0.0->mlflow) (2.5.0)\n",
            "Requirement already satisfied: authlib>=1.5.2 in c:\\users\\eliana\\appdata\\local\\programs\\python\\python313\\lib\\site-packages (from fastmcp<3,>=2.0.0->mlflow) (1.6.5)\n",
            "Requirement already satisfied: cyclopts>=3.0.0 in c:\\users\\eliana\\appdata\\local\\programs\\python\\python313\\lib\\site-packages (from fastmcp<3,>=2.0.0->mlflow) (3.24.0)\n",
            "Requirement already satisfied: exceptiongroup>=1.2.2 in c:\\users\\eliana\\appdata\\local\\programs\\python\\python313\\lib\\site-packages (from fastmcp<3,>=2.0.0->mlflow) (1.3.0)\n",
            "Requirement already satisfied: httpx>=0.28.1 in c:\\users\\eliana\\appdata\\local\\programs\\python\\python313\\lib\\site-packages (from fastmcp<3,>=2.0.0->mlflow) (0.28.1)\n",
            "Requirement already satisfied: mcp<2.0.0,>=1.12.4 in c:\\users\\eliana\\appdata\\local\\programs\\python\\python313\\lib\\site-packages (from fastmcp<3,>=2.0.0->mlflow) (1.16.0)\n",
            "Requirement already satisfied: openapi-core>=0.19.5 in c:\\users\\eliana\\appdata\\local\\programs\\python\\python313\\lib\\site-packages (from fastmcp<3,>=2.0.0->mlflow) (0.19.5)\n",
            "Requirement already satisfied: openapi-pydantic>=0.5.1 in c:\\users\\eliana\\appdata\\local\\programs\\python\\python313\\lib\\site-packages (from fastmcp<3,>=2.0.0->mlflow) (0.5.1)\n",
            "Requirement already satisfied: pyperclip>=1.9.0 in c:\\users\\eliana\\appdata\\local\\programs\\python\\python313\\lib\\site-packages (from fastmcp<3,>=2.0.0->mlflow) (1.11.0)\n",
            "Requirement already satisfied: rich>=13.9.4 in c:\\users\\eliana\\appdata\\local\\programs\\python\\python313\\lib\\site-packages (from fastmcp<3,>=2.0.0->mlflow) (14.1.0)\n",
            "Requirement already satisfied: blinker>=1.9.0 in c:\\users\\eliana\\appdata\\local\\programs\\python\\python313\\lib\\site-packages (from Flask<4->mlflow) (1.9.0)\n",
            "Requirement already satisfied: itsdangerous>=2.2.0 in c:\\users\\eliana\\appdata\\local\\programs\\python\\python313\\lib\\site-packages (from Flask<4->mlflow) (2.2.0)\n",
            "Requirement already satisfied: jinja2>=3.1.2 in c:\\users\\eliana\\appdata\\roaming\\python\\python313\\site-packages (from Flask<4->mlflow) (3.1.6)\n",
            "Requirement already satisfied: markupsafe>=2.1.1 in c:\\users\\eliana\\appdata\\roaming\\python\\python313\\site-packages (from Flask<4->mlflow) (3.0.3)\n",
            "Requirement already satisfied: werkzeug>=3.1.0 in c:\\users\\eliana\\appdata\\local\\programs\\python\\python313\\lib\\site-packages (from Flask<4->mlflow) (3.1.1)\n",
            "Requirement already satisfied: graphql-core<3.3,>=3.1 in c:\\users\\eliana\\appdata\\local\\programs\\python\\python313\\lib\\site-packages (from graphene<4->mlflow) (3.2.6)\n",
            "Requirement already satisfied: graphql-relay<3.3,>=3.1 in c:\\users\\eliana\\appdata\\local\\programs\\python\\python313\\lib\\site-packages (from graphene<4->mlflow) (3.2.0)\n",
            "Requirement already satisfied: python-dateutil<3,>=2.7.0 in c:\\users\\eliana\\appdata\\roaming\\python\\python313\\site-packages (from graphene<4->mlflow) (2.9.0.post0)\n",
            "Requirement already satisfied: contourpy>=1.0.1 in c:\\users\\eliana\\appdata\\local\\programs\\python\\python313\\lib\\site-packages (from matplotlib<4->mlflow) (1.3.1)\n",
            "Requirement already satisfied: cycler>=0.10 in c:\\users\\eliana\\appdata\\local\\programs\\python\\python313\\lib\\site-packages (from matplotlib<4->mlflow) (0.12.1)\n",
            "Requirement already satisfied: fonttools>=4.22.0 in c:\\users\\eliana\\appdata\\local\\programs\\python\\python313\\lib\\site-packages (from matplotlib<4->mlflow) (4.56.0)\n",
            "Requirement already satisfied: kiwisolver>=1.3.1 in c:\\users\\eliana\\appdata\\local\\programs\\python\\python313\\lib\\site-packages (from matplotlib<4->mlflow) (1.4.8)\n",
            "Requirement already satisfied: pillow>=8 in c:\\users\\eliana\\appdata\\local\\programs\\python\\python313\\lib\\site-packages (from matplotlib<4->mlflow) (11.1.0)\n",
            "Requirement already satisfied: pyparsing>=2.3.1 in c:\\users\\eliana\\appdata\\local\\programs\\python\\python313\\lib\\site-packages (from matplotlib<4->mlflow) (3.2.3)\n",
            "Requirement already satisfied: pytz>=2020.1 in c:\\users\\eliana\\appdata\\local\\programs\\python\\python313\\lib\\site-packages (from pandas<3->mlflow) (2025.1)\n",
            "Requirement already satisfied: tzdata>=2022.7 in c:\\users\\eliana\\appdata\\local\\programs\\python\\python313\\lib\\site-packages (from pandas<3->mlflow) (2025.1)\n",
            "Requirement already satisfied: joblib>=1.2.0 in c:\\users\\eliana\\appdata\\local\\programs\\python\\python313\\lib\\site-packages (from scikit-learn<2->mlflow) (1.4.2)\n",
            "Requirement already satisfied: threadpoolctl>=3.1.0 in c:\\users\\eliana\\appdata\\local\\programs\\python\\python313\\lib\\site-packages (from scikit-learn<2->mlflow) (3.6.0)\n",
            "Requirement already satisfied: greenlet>=1 in c:\\users\\eliana\\appdata\\local\\programs\\python\\python313\\lib\\site-packages (from sqlalchemy<3,>=1.4.0->mlflow) (3.2.4)\n",
            "Requirement already satisfied: pycparser in c:\\users\\eliana\\appdata\\roaming\\python\\python313\\site-packages (from cffi>=1.14->cryptography<46,>=43.0.0->mlflow) (2.23)\n",
            "Requirement already satisfied: colorama in c:\\users\\eliana\\appdata\\roaming\\python\\python313\\site-packages (from click<9,>=7.0->mlflow-skinny==3.4.0->mlflow) (0.4.6)\n",
            "Requirement already satisfied: attrs>=23.1.0 in c:\\users\\eliana\\appdata\\local\\programs\\python\\python313\\lib\\site-packages (from cyclopts>=3.0.0->fastmcp<3,>=2.0.0->mlflow) (25.3.0)\n",
            "Requirement already satisfied: docstring-parser>=0.15 in c:\\users\\eliana\\appdata\\local\\programs\\python\\python313\\lib\\site-packages (from cyclopts>=3.0.0->fastmcp<3,>=2.0.0->mlflow) (0.17.0)\n",
            "Requirement already satisfied: rich-rst<2.0.0,>=1.3.1 in c:\\users\\eliana\\appdata\\local\\programs\\python\\python313\\lib\\site-packages (from cyclopts>=3.0.0->fastmcp<3,>=2.0.0->mlflow) (1.3.1)\n",
            "Requirement already satisfied: google-auth~=2.0 in c:\\users\\eliana\\appdata\\local\\programs\\python\\python313\\lib\\site-packages (from databricks-sdk<1,>=0.20.0->mlflow-skinny==3.4.0->mlflow) (2.41.1)\n",
            "Requirement already satisfied: starlette<0.49.0,>=0.40.0 in c:\\users\\eliana\\appdata\\local\\programs\\python\\python313\\lib\\site-packages (from fastapi<1->mlflow-skinny==3.4.0->mlflow) (0.48.0)\n",
            "Requirement already satisfied: gitdb<5,>=4.0.1 in c:\\users\\eliana\\appdata\\local\\programs\\python\\python313\\lib\\site-packages (from gitpython<4,>=3.1.9->mlflow-skinny==3.4.0->mlflow) (4.0.12)\n",
            "Requirement already satisfied: anyio in c:\\users\\eliana\\appdata\\local\\programs\\python\\python313\\lib\\site-packages (from httpx>=0.28.1->fastmcp<3,>=2.0.0->mlflow) (4.11.0)\n",
            "Requirement already satisfied: certifi in c:\\users\\eliana\\appdata\\local\\programs\\python\\python313\\lib\\site-packages (from httpx>=0.28.1->fastmcp<3,>=2.0.0->mlflow) (2025.8.3)\n",
            "Requirement already satisfied: httpcore==1.* in c:\\users\\eliana\\appdata\\local\\programs\\python\\python313\\lib\\site-packages (from httpx>=0.28.1->fastmcp<3,>=2.0.0->mlflow) (1.0.9)\n",
            "Requirement already satisfied: idna in c:\\users\\eliana\\appdata\\local\\programs\\python\\python313\\lib\\site-packages (from httpx>=0.28.1->fastmcp<3,>=2.0.0->mlflow) (3.10)\n",
            "Requirement already satisfied: h11>=0.16 in c:\\users\\eliana\\appdata\\local\\programs\\python\\python313\\lib\\site-packages (from httpcore==1.*->httpx>=0.28.1->fastmcp<3,>=2.0.0->mlflow) (0.16.0)\n",
            "Requirement already satisfied: zipp>=3.20 in c:\\users\\eliana\\appdata\\local\\programs\\python\\python313\\lib\\site-packages (from importlib_metadata!=4.7.0,<9,>=3.7.0->mlflow-skinny==3.4.0->mlflow) (3.23.0)\n",
            "Requirement already satisfied: httpx-sse>=0.4 in c:\\users\\eliana\\appdata\\local\\programs\\python\\python313\\lib\\site-packages (from mcp<2.0.0,>=1.12.4->fastmcp<3,>=2.0.0->mlflow) (0.4.1)\n",
            "Requirement already satisfied: jsonschema>=4.20.0 in c:\\users\\eliana\\appdata\\local\\programs\\python\\python313\\lib\\site-packages (from mcp<2.0.0,>=1.12.4->fastmcp<3,>=2.0.0->mlflow) (4.25.1)\n",
            "Requirement already satisfied: pydantic-settings>=2.5.2 in c:\\users\\eliana\\appdata\\local\\programs\\python\\python313\\lib\\site-packages (from mcp<2.0.0,>=1.12.4->fastmcp<3,>=2.0.0->mlflow) (2.11.0)\n",
            "Requirement already satisfied: python-multipart>=0.0.9 in c:\\users\\eliana\\appdata\\local\\programs\\python\\python313\\lib\\site-packages (from mcp<2.0.0,>=1.12.4->fastmcp<3,>=2.0.0->mlflow) (0.0.20)\n",
            "Requirement already satisfied: sse-starlette>=1.6.1 in c:\\users\\eliana\\appdata\\local\\programs\\python\\python313\\lib\\site-packages (from mcp<2.0.0,>=1.12.4->fastmcp<3,>=2.0.0->mlflow) (3.0.2)\n",
            "Requirement already satisfied: isodate in c:\\users\\eliana\\appdata\\local\\programs\\python\\python313\\lib\\site-packages (from openapi-core>=0.19.5->fastmcp<3,>=2.0.0->mlflow) (0.7.2)\n",
            "Requirement already satisfied: jsonschema-path<0.4.0,>=0.3.1 in c:\\users\\eliana\\appdata\\local\\programs\\python\\python313\\lib\\site-packages (from openapi-core>=0.19.5->fastmcp<3,>=2.0.0->mlflow) (0.3.4)\n",
            "Requirement already satisfied: more-itertools in c:\\users\\eliana\\appdata\\local\\programs\\python\\python313\\lib\\site-packages (from openapi-core>=0.19.5->fastmcp<3,>=2.0.0->mlflow) (10.8.0)\n",
            "Requirement already satisfied: openapi-schema-validator<0.7.0,>=0.6.0 in c:\\users\\eliana\\appdata\\local\\programs\\python\\python313\\lib\\site-packages (from openapi-core>=0.19.5->fastmcp<3,>=2.0.0->mlflow) (0.6.3)\n",
            "Requirement already satisfied: openapi-spec-validator<0.8.0,>=0.7.1 in c:\\users\\eliana\\appdata\\local\\programs\\python\\python313\\lib\\site-packages (from openapi-core>=0.19.5->fastmcp<3,>=2.0.0->mlflow) (0.7.2)\n",
            "Requirement already satisfied: parse in c:\\users\\eliana\\appdata\\local\\programs\\python\\python313\\lib\\site-packages (from openapi-core>=0.19.5->fastmcp<3,>=2.0.0->mlflow) (1.20.2)\n",
            "Requirement already satisfied: opentelemetry-semantic-conventions==0.58b0 in c:\\users\\eliana\\appdata\\local\\programs\\python\\python313\\lib\\site-packages (from opentelemetry-sdk<3,>=1.9.0->mlflow-skinny==3.4.0->mlflow) (0.58b0)\n",
            "Requirement already satisfied: annotated-types>=0.6.0 in c:\\users\\eliana\\appdata\\local\\programs\\python\\python313\\lib\\site-packages (from pydantic<3,>=1.10.8->mlflow-skinny==3.4.0->mlflow) (0.7.0)\n",
            "Requirement already satisfied: pydantic-core==2.33.2 in c:\\users\\eliana\\appdata\\local\\programs\\python\\python313\\lib\\site-packages (from pydantic<3,>=1.10.8->mlflow-skinny==3.4.0->mlflow) (2.33.2)\n",
            "Requirement already satisfied: typing-inspection>=0.4.0 in c:\\users\\eliana\\appdata\\local\\programs\\python\\python313\\lib\\site-packages (from pydantic<3,>=1.10.8->mlflow-skinny==3.4.0->mlflow) (0.4.2)\n",
            "Requirement already satisfied: email-validator>=2.0.0 in c:\\users\\eliana\\appdata\\local\\programs\\python\\python313\\lib\\site-packages (from pydantic[email]>=2.11.7->fastmcp<3,>=2.0.0->mlflow) (2.3.0)\n",
            "Requirement already satisfied: six>=1.5 in c:\\users\\eliana\\appdata\\roaming\\python\\python313\\site-packages (from python-dateutil<3,>=2.7.0->graphene<4->mlflow) (1.17.0)\n",
            "Requirement already satisfied: charset_normalizer<4,>=2 in c:\\users\\eliana\\appdata\\local\\programs\\python\\python313\\lib\\site-packages (from requests<3,>=2.17.3->mlflow-skinny==3.4.0->mlflow) (3.4.2)\n",
            "Requirement already satisfied: markdown-it-py>=2.2.0 in c:\\users\\eliana\\appdata\\local\\programs\\python\\python313\\lib\\site-packages (from rich>=13.9.4->fastmcp<3,>=2.0.0->mlflow) (4.0.0)\n",
            "Requirement already satisfied: pygments<3.0.0,>=2.13.0 in c:\\users\\eliana\\appdata\\roaming\\python\\python313\\site-packages (from rich>=13.9.4->fastmcp<3,>=2.0.0->mlflow) (2.19.1)\n",
            "Requirement already satisfied: sniffio>=1.1 in c:\\users\\eliana\\appdata\\local\\programs\\python\\python313\\lib\\site-packages (from anyio->httpx>=0.28.1->fastmcp<3,>=2.0.0->mlflow) (1.3.1)\n",
            "Requirement already satisfied: dnspython>=2.0.0 in c:\\users\\eliana\\appdata\\local\\programs\\python\\python313\\lib\\site-packages (from email-validator>=2.0.0->pydantic[email]>=2.11.7->fastmcp<3,>=2.0.0->mlflow) (2.8.0)\n",
            "Requirement already satisfied: smmap<6,>=3.0.1 in c:\\users\\eliana\\appdata\\local\\programs\\python\\python313\\lib\\site-packages (from gitdb<5,>=4.0.1->gitpython<4,>=3.1.9->mlflow-skinny==3.4.0->mlflow) (5.0.2)\n",
            "Requirement already satisfied: pyasn1-modules>=0.2.1 in c:\\users\\eliana\\appdata\\local\\programs\\python\\python313\\lib\\site-packages (from google-auth~=2.0->databricks-sdk<1,>=0.20.0->mlflow-skinny==3.4.0->mlflow) (0.4.2)\n",
            "Requirement already satisfied: rsa<5,>=3.1.4 in c:\\users\\eliana\\appdata\\local\\programs\\python\\python313\\lib\\site-packages (from google-auth~=2.0->databricks-sdk<1,>=0.20.0->mlflow-skinny==3.4.0->mlflow) (4.9.1)\n",
            "Requirement already satisfied: jsonschema-specifications>=2023.03.6 in c:\\users\\eliana\\appdata\\local\\programs\\python\\python313\\lib\\site-packages (from jsonschema>=4.20.0->mcp<2.0.0,>=1.12.4->fastmcp<3,>=2.0.0->mlflow) (2025.9.1)\n",
            "Requirement already satisfied: referencing>=0.28.4 in c:\\users\\eliana\\appdata\\local\\programs\\python\\python313\\lib\\site-packages (from jsonschema>=4.20.0->mcp<2.0.0,>=1.12.4->fastmcp<3,>=2.0.0->mlflow) (0.36.2)\n",
            "Requirement already satisfied: rpds-py>=0.7.1 in c:\\users\\eliana\\appdata\\local\\programs\\python\\python313\\lib\\site-packages (from jsonschema>=4.20.0->mcp<2.0.0,>=1.12.4->fastmcp<3,>=2.0.0->mlflow) (0.27.1)\n",
            "Requirement already satisfied: pathable<0.5.0,>=0.4.1 in c:\\users\\eliana\\appdata\\local\\programs\\python\\python313\\lib\\site-packages (from jsonschema-path<0.4.0,>=0.3.1->openapi-core>=0.19.5->fastmcp<3,>=2.0.0->mlflow) (0.4.4)\n",
            "Requirement already satisfied: mdurl~=0.1 in c:\\users\\eliana\\appdata\\local\\programs\\python\\python313\\lib\\site-packages (from markdown-it-py>=2.2.0->rich>=13.9.4->fastmcp<3,>=2.0.0->mlflow) (0.1.2)\n",
            "Requirement already satisfied: rfc3339-validator in c:\\users\\eliana\\appdata\\local\\programs\\python\\python313\\lib\\site-packages (from openapi-schema-validator<0.7.0,>=0.6.0->openapi-core>=0.19.5->fastmcp<3,>=2.0.0->mlflow) (0.1.4)\n",
            "Requirement already satisfied: lazy-object-proxy<2.0.0,>=1.7.1 in c:\\users\\eliana\\appdata\\local\\programs\\python\\python313\\lib\\site-packages (from openapi-spec-validator<0.8.0,>=0.7.1->openapi-core>=0.19.5->fastmcp<3,>=2.0.0->mlflow) (1.12.0)\n",
            "Requirement already satisfied: docutils in c:\\users\\eliana\\appdata\\local\\programs\\python\\python313\\lib\\site-packages (from rich-rst<2.0.0,>=1.3.1->cyclopts>=3.0.0->fastmcp<3,>=2.0.0->mlflow) (0.22.2)\n",
            "Requirement already satisfied: pyasn1<0.7.0,>=0.6.1 in c:\\users\\eliana\\appdata\\local\\programs\\python\\python313\\lib\\site-packages (from pyasn1-modules>=0.2.1->google-auth~=2.0->databricks-sdk<1,>=0.20.0->mlflow-skinny==3.4.0->mlflow) (0.6.1)\n"
          ]
        },
        {
          "name": "stderr",
          "output_type": "stream",
          "text": [
            "\n",
            "[notice] A new release of pip is available: 24.3.1 -> 25.2\n",
            "[notice] To update, run: python.exe -m pip install --upgrade pip\n"
          ]
        }
      ],
      "source": [
        "#Instalar el complementos\n",
        "%pip install factor_analyzer\n",
        "%pip install networkx\n",
        "%pip install mlflow\n",
        "%matplotlib inline"
      ]
    },
    {
      "cell_type": "code",
      "execution_count": 4,
      "metadata": {},
      "outputs": [],
      "source": [
        "datos = pd.read_csv(\"MLOPS_Project/data/tips.csv\")"
      ]
    },
    {
      "cell_type": "code",
      "execution_count": 5,
      "metadata": {
        "id": "IqZrIdoOaopL"
      },
      "outputs": [],
      "source": [
        "#Obtengo los Ln\n",
        "continuas=datos[[\"total_bill\",\"tip\",\"size\"]]\n",
        "continuas_L = pd.DataFrame()\n",
        "for col in continuas.columns:\n",
        "    col_data = continuas[col]\n",
        "    min_val = col_data.min()\n",
        "\n",
        "    if (col_data < 0).any():\n",
        "        desplazamiento = abs(min_val) + 1\n",
        "        continuas_L[f\"{col}_L\"] = np.log(col_data + desplazamiento)\n",
        "\n",
        "    elif (col_data == 0).any():\n",
        "        continuas_L[f\"{col}_L\"] = np.log(col_data.replace(0, 1))\n",
        "    else:\n",
        "        continuas_L[f\"{col}_L\"] = np.log(col_data)"
      ]
    },
    {
      "cell_type": "code",
      "execution_count": 6,
      "metadata": {
        "colab": {
          "base_uri": "https://localhost:8080/",
          "height": 223
        },
        "id": "4fsbiSOKc_ax",
        "outputId": "0f52ae88-632f-4b63-e838-ac9f44df93fc"
      },
      "outputs": [
        {
          "name": "stdout",
          "output_type": "stream",
          "text": [
            "✅ Componentes concatenados correctamente.\n"
          ]
        },
        {
          "data": {
            "text/html": [
              "<div>\n",
              "<style scoped>\n",
              "    .dataframe tbody tr th:only-of-type {\n",
              "        vertical-align: middle;\n",
              "    }\n",
              "\n",
              "    .dataframe tbody tr th {\n",
              "        vertical-align: top;\n",
              "    }\n",
              "\n",
              "    .dataframe thead th {\n",
              "        text-align: right;\n",
              "    }\n",
              "</style>\n",
              "<table border=\"1\" class=\"dataframe\">\n",
              "  <thead>\n",
              "    <tr style=\"text-align: right;\">\n",
              "      <th></th>\n",
              "      <th>total_bill</th>\n",
              "      <th>tip</th>\n",
              "      <th>sex</th>\n",
              "      <th>smoker</th>\n",
              "      <th>day</th>\n",
              "      <th>time</th>\n",
              "      <th>size</th>\n",
              "      <th>total_bill_L</th>\n",
              "      <th>tip_L</th>\n",
              "      <th>size_L</th>\n",
              "    </tr>\n",
              "  </thead>\n",
              "  <tbody>\n",
              "    <tr>\n",
              "      <th>0</th>\n",
              "      <td>16.99</td>\n",
              "      <td>1.01</td>\n",
              "      <td>Female</td>\n",
              "      <td>No</td>\n",
              "      <td>Sun</td>\n",
              "      <td>Dinner</td>\n",
              "      <td>2</td>\n",
              "      <td>2.832625</td>\n",
              "      <td>0.009950</td>\n",
              "      <td>0.693147</td>\n",
              "    </tr>\n",
              "    <tr>\n",
              "      <th>1</th>\n",
              "      <td>10.34</td>\n",
              "      <td>1.66</td>\n",
              "      <td>Male</td>\n",
              "      <td>No</td>\n",
              "      <td>Sun</td>\n",
              "      <td>Dinner</td>\n",
              "      <td>3</td>\n",
              "      <td>2.336020</td>\n",
              "      <td>0.506818</td>\n",
              "      <td>1.098612</td>\n",
              "    </tr>\n",
              "    <tr>\n",
              "      <th>2</th>\n",
              "      <td>21.01</td>\n",
              "      <td>3.50</td>\n",
              "      <td>Male</td>\n",
              "      <td>No</td>\n",
              "      <td>Sun</td>\n",
              "      <td>Dinner</td>\n",
              "      <td>3</td>\n",
              "      <td>3.044999</td>\n",
              "      <td>1.252763</td>\n",
              "      <td>1.098612</td>\n",
              "    </tr>\n",
              "    <tr>\n",
              "      <th>3</th>\n",
              "      <td>23.68</td>\n",
              "      <td>3.31</td>\n",
              "      <td>Male</td>\n",
              "      <td>No</td>\n",
              "      <td>Sun</td>\n",
              "      <td>Dinner</td>\n",
              "      <td>2</td>\n",
              "      <td>3.164631</td>\n",
              "      <td>1.196948</td>\n",
              "      <td>0.693147</td>\n",
              "    </tr>\n",
              "    <tr>\n",
              "      <th>4</th>\n",
              "      <td>24.59</td>\n",
              "      <td>3.61</td>\n",
              "      <td>Female</td>\n",
              "      <td>No</td>\n",
              "      <td>Sun</td>\n",
              "      <td>Dinner</td>\n",
              "      <td>4</td>\n",
              "      <td>3.202340</td>\n",
              "      <td>1.283708</td>\n",
              "      <td>1.386294</td>\n",
              "    </tr>\n",
              "  </tbody>\n",
              "</table>\n",
              "</div>"
            ],
            "text/plain": [
              "   total_bill   tip     sex smoker  day    time  size  total_bill_L     tip_L  \\\n",
              "0       16.99  1.01  Female     No  Sun  Dinner     2      2.832625  0.009950   \n",
              "1       10.34  1.66    Male     No  Sun  Dinner     3      2.336020  0.506818   \n",
              "2       21.01  3.50    Male     No  Sun  Dinner     3      3.044999  1.252763   \n",
              "3       23.68  3.31    Male     No  Sun  Dinner     2      3.164631  1.196948   \n",
              "4       24.59  3.61  Female     No  Sun  Dinner     4      3.202340  1.283708   \n",
              "\n",
              "     size_L  \n",
              "0  0.693147  \n",
              "1  1.098612  \n",
              "2  1.098612  \n",
              "3  0.693147  \n",
              "4  1.386294  "
            ]
          },
          "metadata": {},
          "output_type": "display_data"
        }
      ],
      "source": [
        "# Validar si hay columnas duplicadas antes de concatenar\n",
        "columnas_duplicadas = [col for col in continuas_L.columns if col in datos.columns]\n",
        "\n",
        "if columnas_duplicadas:\n",
        "    print(\"🚫 No se puede concatenar. Las siguientes columnas ya existen en 'datos':\")\n",
        "    for col in columnas_duplicadas:\n",
        "        print(f\" - {col}\")\n",
        "    print(\"🛑 Ajusta los nombres de las columnas para evitar conflictos.\")\n",
        "else:\n",
        "    # Si no hay conflicto, concatena\n",
        "    datos = pd.concat([datos, continuas_L], axis=1)\n",
        "    print(\"✅ Componentes concatenados correctamente.\")\n",
        "    display(datos.head())\n"
      ]
    },
    {
      "cell_type": "markdown",
      "metadata": {
        "id": "3iw9Ha_IQMkR"
      },
      "source": [
        "# **Pertinencia de la regresión múltiple: explorar los datos**"
      ]
    },
    {
      "cell_type": "code",
      "execution_count": 7,
      "metadata": {
        "colab": {
          "base_uri": "https://localhost:8080/",
          "height": 394
        },
        "id": "AE6v90INuTBD",
        "outputId": "76e2beaa-d7a3-411a-e42d-951a427d4ed1"
      },
      "outputs": [
        {
          "data": {
            "text/html": [
              "<div>\n",
              "<style scoped>\n",
              "    .dataframe tbody tr th:only-of-type {\n",
              "        vertical-align: middle;\n",
              "    }\n",
              "\n",
              "    .dataframe tbody tr th {\n",
              "        vertical-align: top;\n",
              "    }\n",
              "\n",
              "    .dataframe thead th {\n",
              "        text-align: right;\n",
              "    }\n",
              "</style>\n",
              "<table border=\"1\" class=\"dataframe\">\n",
              "  <thead>\n",
              "    <tr style=\"text-align: right;\">\n",
              "      <th></th>\n",
              "      <th>total_bill</th>\n",
              "      <th>tip</th>\n",
              "      <th>sex</th>\n",
              "      <th>smoker</th>\n",
              "      <th>day</th>\n",
              "      <th>time</th>\n",
              "      <th>size</th>\n",
              "      <th>total_bill_L</th>\n",
              "      <th>tip_L</th>\n",
              "      <th>size_L</th>\n",
              "    </tr>\n",
              "  </thead>\n",
              "  <tbody>\n",
              "    <tr>\n",
              "      <th>151</th>\n",
              "      <td>13.13</td>\n",
              "      <td>2.00</td>\n",
              "      <td>Male</td>\n",
              "      <td>No</td>\n",
              "      <td>Sun</td>\n",
              "      <td>Dinner</td>\n",
              "      <td>2</td>\n",
              "      <td>2.574900</td>\n",
              "      <td>0.693147</td>\n",
              "      <td>0.693147</td>\n",
              "    </tr>\n",
              "    <tr>\n",
              "      <th>34</th>\n",
              "      <td>17.78</td>\n",
              "      <td>3.27</td>\n",
              "      <td>Male</td>\n",
              "      <td>No</td>\n",
              "      <td>Sat</td>\n",
              "      <td>Dinner</td>\n",
              "      <td>2</td>\n",
              "      <td>2.878074</td>\n",
              "      <td>1.184790</td>\n",
              "      <td>0.693147</td>\n",
              "    </tr>\n",
              "    <tr>\n",
              "      <th>109</th>\n",
              "      <td>14.31</td>\n",
              "      <td>4.00</td>\n",
              "      <td>Female</td>\n",
              "      <td>Yes</td>\n",
              "      <td>Sat</td>\n",
              "      <td>Dinner</td>\n",
              "      <td>2</td>\n",
              "      <td>2.660959</td>\n",
              "      <td>1.386294</td>\n",
              "      <td>0.693147</td>\n",
              "    </tr>\n",
              "    <tr>\n",
              "      <th>4</th>\n",
              "      <td>24.59</td>\n",
              "      <td>3.61</td>\n",
              "      <td>Female</td>\n",
              "      <td>No</td>\n",
              "      <td>Sun</td>\n",
              "      <td>Dinner</td>\n",
              "      <td>4</td>\n",
              "      <td>3.202340</td>\n",
              "      <td>1.283708</td>\n",
              "      <td>1.386294</td>\n",
              "    </tr>\n",
              "    <tr>\n",
              "      <th>114</th>\n",
              "      <td>25.71</td>\n",
              "      <td>4.00</td>\n",
              "      <td>Female</td>\n",
              "      <td>No</td>\n",
              "      <td>Sun</td>\n",
              "      <td>Dinner</td>\n",
              "      <td>3</td>\n",
              "      <td>3.246880</td>\n",
              "      <td>1.386294</td>\n",
              "      <td>1.098612</td>\n",
              "    </tr>\n",
              "  </tbody>\n",
              "</table>\n",
              "</div>"
            ],
            "text/plain": [
              "     total_bill   tip     sex smoker  day    time  size  total_bill_L  \\\n",
              "151       13.13  2.00    Male     No  Sun  Dinner     2      2.574900   \n",
              "34        17.78  3.27    Male     No  Sat  Dinner     2      2.878074   \n",
              "109       14.31  4.00  Female    Yes  Sat  Dinner     2      2.660959   \n",
              "4         24.59  3.61  Female     No  Sun  Dinner     4      3.202340   \n",
              "114       25.71  4.00  Female     No  Sun  Dinner     3      3.246880   \n",
              "\n",
              "        tip_L    size_L  \n",
              "151  0.693147  0.693147  \n",
              "34   1.184790  0.693147  \n",
              "109  1.386294  0.693147  \n",
              "4    1.283708  1.386294  \n",
              "114  1.386294  1.098612  "
            ]
          },
          "metadata": {},
          "output_type": "display_data"
        },
        {
          "data": {
            "text/html": [
              "<div>\n",
              "<style scoped>\n",
              "    .dataframe tbody tr th:only-of-type {\n",
              "        vertical-align: middle;\n",
              "    }\n",
              "\n",
              "    .dataframe tbody tr th {\n",
              "        vertical-align: top;\n",
              "    }\n",
              "\n",
              "    .dataframe thead th {\n",
              "        text-align: right;\n",
              "    }\n",
              "</style>\n",
              "<table border=\"1\" class=\"dataframe\">\n",
              "  <thead>\n",
              "    <tr style=\"text-align: right;\">\n",
              "      <th></th>\n",
              "      <th>total_bill</th>\n",
              "      <th>tip</th>\n",
              "      <th>sex</th>\n",
              "      <th>smoker</th>\n",
              "      <th>day</th>\n",
              "      <th>time</th>\n",
              "      <th>size</th>\n",
              "      <th>total_bill_L</th>\n",
              "      <th>tip_L</th>\n",
              "      <th>size_L</th>\n",
              "    </tr>\n",
              "  </thead>\n",
              "  <tbody>\n",
              "    <tr>\n",
              "      <th>5</th>\n",
              "      <td>25.29</td>\n",
              "      <td>4.71</td>\n",
              "      <td>Male</td>\n",
              "      <td>No</td>\n",
              "      <td>Sun</td>\n",
              "      <td>Dinner</td>\n",
              "      <td>4</td>\n",
              "      <td>3.230409</td>\n",
              "      <td>1.549688</td>\n",
              "      <td>1.386294</td>\n",
              "    </tr>\n",
              "    <tr>\n",
              "      <th>7</th>\n",
              "      <td>26.88</td>\n",
              "      <td>3.12</td>\n",
              "      <td>Male</td>\n",
              "      <td>No</td>\n",
              "      <td>Sun</td>\n",
              "      <td>Dinner</td>\n",
              "      <td>4</td>\n",
              "      <td>3.291383</td>\n",
              "      <td>1.137833</td>\n",
              "      <td>1.386294</td>\n",
              "    </tr>\n",
              "    <tr>\n",
              "      <th>8</th>\n",
              "      <td>15.04</td>\n",
              "      <td>1.96</td>\n",
              "      <td>Male</td>\n",
              "      <td>No</td>\n",
              "      <td>Sun</td>\n",
              "      <td>Dinner</td>\n",
              "      <td>2</td>\n",
              "      <td>2.710713</td>\n",
              "      <td>0.672944</td>\n",
              "      <td>0.693147</td>\n",
              "    </tr>\n",
              "    <tr>\n",
              "      <th>11</th>\n",
              "      <td>35.26</td>\n",
              "      <td>5.00</td>\n",
              "      <td>Female</td>\n",
              "      <td>No</td>\n",
              "      <td>Sun</td>\n",
              "      <td>Dinner</td>\n",
              "      <td>4</td>\n",
              "      <td>3.562749</td>\n",
              "      <td>1.609438</td>\n",
              "      <td>1.386294</td>\n",
              "    </tr>\n",
              "    <tr>\n",
              "      <th>19</th>\n",
              "      <td>20.65</td>\n",
              "      <td>3.35</td>\n",
              "      <td>Male</td>\n",
              "      <td>No</td>\n",
              "      <td>Sat</td>\n",
              "      <td>Dinner</td>\n",
              "      <td>3</td>\n",
              "      <td>3.027715</td>\n",
              "      <td>1.208960</td>\n",
              "      <td>1.098612</td>\n",
              "    </tr>\n",
              "  </tbody>\n",
              "</table>\n",
              "</div>"
            ],
            "text/plain": [
              "    total_bill   tip     sex smoker  day    time  size  total_bill_L  \\\n",
              "5        25.29  4.71    Male     No  Sun  Dinner     4      3.230409   \n",
              "7        26.88  3.12    Male     No  Sun  Dinner     4      3.291383   \n",
              "8        15.04  1.96    Male     No  Sun  Dinner     2      2.710713   \n",
              "11       35.26  5.00  Female     No  Sun  Dinner     4      3.562749   \n",
              "19       20.65  3.35    Male     No  Sat  Dinner     3      3.027715   \n",
              "\n",
              "       tip_L    size_L  \n",
              "5   1.549688  1.386294  \n",
              "7   1.137833  1.386294  \n",
              "8   0.672944  0.693147  \n",
              "11  1.609438  1.386294  \n",
              "19  1.208960  1.098612  "
            ]
          },
          "metadata": {},
          "output_type": "display_data"
        }
      ],
      "source": [
        "#Se dividen los datos en entrenamiento y testeo\n",
        "np.random.seed(101)\n",
        "sample = np.random.choice(datos.index, size=int(0.8 * len(datos)), replace=False)\n",
        "train = datos.loc[sample]\n",
        "test = datos.drop(sample)\n",
        "display(train.head())\n",
        "display(test.head())"
      ]
    },
    {
      "cell_type": "markdown",
      "metadata": {
        "id": "h1ZNjSlkhisz"
      },
      "source": [
        "# **Desarrollo del modelo de Regresión Múltiple**"
      ]
    },
    {
      "cell_type": "code",
      "execution_count": 8,
      "metadata": {
        "id": "50PDSGocf7bR"
      },
      "outputs": [],
      "source": [
        "#Separar las variables explicatorias\n",
        "X_train = train[[\"total_bill\",\"tip\",\"size\"]]\n",
        "X_train_L = train[[\"total_bill_L\",\"tip_L\",\"size_L\"]]"
      ]
    },
    {
      "cell_type": "markdown",
      "metadata": {
        "id": "Zh73y6QfjTKP"
      },
      "source": [
        "## **Existencia del modelo**"
      ]
    },
    {
      "cell_type": "code",
      "execution_count": 9,
      "metadata": {
        "colab": {
          "base_uri": "https://localhost:8080/",
          "height": 143
        },
        "id": "k7vn7IWxjaqA",
        "outputId": "02677908-f798-4609-920a-701845217a85"
      },
      "outputs": [
        {
          "data": {
            "text/html": [
              "<div>\n",
              "<style scoped>\n",
              "    .dataframe tbody tr th:only-of-type {\n",
              "        vertical-align: middle;\n",
              "    }\n",
              "\n",
              "    .dataframe tbody tr th {\n",
              "        vertical-align: top;\n",
              "    }\n",
              "\n",
              "    .dataframe thead th {\n",
              "        text-align: right;\n",
              "    }\n",
              "</style>\n",
              "<table border=\"1\" class=\"dataframe\">\n",
              "  <thead>\n",
              "    <tr style=\"text-align: right;\">\n",
              "      <th></th>\n",
              "      <th>sum_sq</th>\n",
              "      <th>df</th>\n",
              "      <th>F</th>\n",
              "      <th>PR(&gt;F)</th>\n",
              "    </tr>\n",
              "  </thead>\n",
              "  <tbody>\n",
              "    <tr>\n",
              "      <th>total_bill_L</th>\n",
              "      <td>7.157521</td>\n",
              "      <td>1.0</td>\n",
              "      <td>64.368522</td>\n",
              "      <td>9.983559e-14</td>\n",
              "    </tr>\n",
              "    <tr>\n",
              "      <th>size_L</th>\n",
              "      <td>0.445431</td>\n",
              "      <td>1.0</td>\n",
              "      <td>4.005820</td>\n",
              "      <td>4.675146e-02</td>\n",
              "    </tr>\n",
              "    <tr>\n",
              "      <th>Residual</th>\n",
              "      <td>21.349629</td>\n",
              "      <td>192.0</td>\n",
              "      <td>NaN</td>\n",
              "      <td>NaN</td>\n",
              "    </tr>\n",
              "  </tbody>\n",
              "</table>\n",
              "</div>"
            ],
            "text/plain": [
              "                 sum_sq     df          F        PR(>F)\n",
              "total_bill_L   7.157521    1.0  64.368522  9.983559e-14\n",
              "size_L         0.445431    1.0   4.005820  4.675146e-02\n",
              "Residual      21.349629  192.0        NaN           NaN"
            ]
          },
          "execution_count": 9,
          "metadata": {},
          "output_type": "execute_result"
        }
      ],
      "source": [
        "#Verificar la existencia del modelo\n",
        "# Mi pregunta: ¿El valor total de la cuenta y el tamaño del grupo influyen en el valor de la propina?\n",
        "\n",
        "# Y = tip_L\n",
        "# X1 = total_bill_L\n",
        "# X2 = size_L\n",
        "\n",
        "formula_m = 'tip_L ~ total_bill_L+size_L'\n",
        "model_m = sm.formula.ols(formula_m, data=train).fit()\n",
        "aov_table_m =  sm.stats.anova_lm(model_m,typ=2)\n",
        "aov_table_m"
      ]
    },
    {
      "cell_type": "markdown",
      "metadata": {
        "id": "psGMuX7olDih"
      },
      "source": [
        "## **Pruebas invividuales y el ajuste del modelo**"
      ]
    },
    {
      "cell_type": "code",
      "execution_count": 10,
      "metadata": {
        "colab": {
          "base_uri": "https://localhost:8080/",
          "height": 678
        },
        "id": "z7H1x1kAlClA",
        "outputId": "d5040135-b7b8-476e-b60e-e337b128f1d9"
      },
      "outputs": [
        {
          "name": "stdout",
          "output_type": "stream",
          "text": [
            "                            OLS Regression Results                            \n",
            "==============================================================================\n",
            "Dep. Variable:                  tip_L   R-squared:                       0.419\n",
            "Model:                            OLS   Adj. R-squared:                  0.413\n",
            "Method:                 Least Squares   F-statistic:                     69.30\n",
            "Date:                Mon, 06 Oct 2025   Prob (F-statistic):           2.20e-23\n",
            "Time:                        18:32:48   Log-Likelihood:                -61.026\n",
            "No. Observations:                 195   AIC:                             128.1\n",
            "Df Residuals:                     192   BIC:                             137.9\n",
            "Df Model:                           2                                         \n",
            "Covariance Type:            nonrobust                                         \n",
            "================================================================================\n",
            "                   coef    std err          t      P>|t|      [0.025      0.975]\n",
            "--------------------------------------------------------------------------------\n",
            "Intercept       -0.7562      0.164     -4.602      0.000      -1.080      -0.432\n",
            "total_bill_L     0.5484      0.068      8.023      0.000       0.414       0.683\n",
            "size_L           0.1810      0.090      2.001      0.047       0.003       0.359\n",
            "==============================================================================\n",
            "Omnibus:                        5.502   Durbin-Watson:                   2.104\n",
            "Prob(Omnibus):                  0.064   Jarque-Bera (JB):                7.329\n",
            "Skew:                          -0.140   Prob(JB):                       0.0256\n",
            "Kurtosis:                       3.908   Cond. No.                         24.2\n",
            "==============================================================================\n",
            "\n",
            "Notes:\n",
            "[1] Standard Errors assume that the covariance matrix of the errors is correctly specified.\n"
          ]
        },
        {
          "data": {
            "text/markdown": [
              "📌 **Resumen del modelo de regresión múltiple (Interpretación Automática ):**\n",
              "\n",
              "🔎 El modelo tiene un coeficiente de determinación **R² = 0.419** y ajustado **R²_adj = 0.413**, lo que indica que explica aproximadamente el **41.9%** de la variabilidad de la propina (en escala logarítmica).\n",
              "📈 La prueba global del modelo (F-statistic) tiene un valor-p de **2.20e-23**, lo que indica que el modelo en su conjunto es **estadísticamente significativo**.\n",
              "\n",
              "🔬 **Análisis de variables independientes:**\n",
              "✅ **Intercept**: significativa (p = 0.000), con coeficiente = -0.756. Intervalo de confianza: [-1.080, -0.432]\n",
              "✅ **total_bill_L**: significativa (p = 0.000), con coeficiente = 0.548. Intervalo de confianza: [0.414, 0.683]\n",
              "✅ **size_L**: significativa (p = 0.047), con coeficiente = 0.181. Intervalo de confianza: [0.003, 0.359]"
            ],
            "text/plain": [
              "<IPython.core.display.Markdown object>"
            ]
          },
          "metadata": {},
          "output_type": "display_data"
        },
        {
          "data": {
            "text/markdown": [
              "🧠 **Recomendaciones basadas en los resultados:**"
            ],
            "text/plain": [
              "<IPython.core.display.Markdown object>"
            ]
          },
          "metadata": {},
          "output_type": "display_data"
        },
        {
          "data": {
            "text/markdown": [
              "⬅️ *Cuando **Intercept** aumenta, la propina tiende a disminuir.*\n",
              "➡️ *Cuando **total_bill_L** aumenta, la propina tiende a aumentar.*\n",
              "➡️ *Cuando **size_L** aumenta, la propina tiende a aumentar.*"
            ],
            "text/plain": [
              "<IPython.core.display.Markdown object>"
            ]
          },
          "metadata": {},
          "output_type": "display_data"
        }
      ],
      "source": [
        "import statsmodels.api as sm\n",
        "from IPython.display import Markdown, display\n",
        "\n",
        "# Mostrar resumen del modelo\n",
        "summary_m = model_m.summary()\n",
        "print(summary_m)\n",
        "\n",
        "# =============================\n",
        "# Interpretación automática\n",
        "# =============================\n",
        "r2 = model_m.rsquared\n",
        "adj_r2 = model_m.rsquared_adj\n",
        "f_pvalue = model_m.f_pvalue\n",
        "p_values = model_m.pvalues\n",
        "coefs = model_m.params\n",
        "conf_int = model_m.conf_int()\n",
        "\n",
        "interpretacion = []\n",
        "recomendaciones = []\n",
        "\n",
        "interpretacion.append(\"📌 **Resumen del modelo de regresión múltiple (Interpretación Automática ):**\\n\")\n",
        "\n",
        "# Interpretación del R²\n",
        "interpretacion.append(f\"🔎 El modelo tiene un coeficiente de determinación **R² = {r2:.3f}** y ajustado **R²_adj = {adj_r2:.3f}**, lo que indica que explica aproximadamente el **{r2*100:.1f}%** de la variabilidad de la propina (en escala logarítmica).\")\n",
        "\n",
        "if r2 < 0.4:\n",
        "    recomendaciones.append(\"🔍 *El R² es relativamente bajo. Considera agregar nuevas variables que puedan explicar mejor el comportamiento de las propinas.*\")\n",
        "elif r2 > 0.8:\n",
        "    recomendaciones.append(\"✅ *El modelo tiene un buen poder explicativo. Verifica que no haya sobreajuste si estás usando muchas variables.*\")\n",
        "\n",
        "# Valor F\n",
        "interpretacion.append(f\"📈 La prueba global del modelo (F-statistic) tiene un valor-p de **{f_pvalue:.2e}**, lo que indica que el modelo en su conjunto es **estadísticamente significativo**.\")\n",
        "\n",
        "# Interpretación por variable\n",
        "interpretacion.append(\"\\n🔬 **Análisis de variables independientes:**\")\n",
        "for var in p_values.index:\n",
        "    pval = p_values[var]\n",
        "    beta = coefs[var]\n",
        "    intervalo = conf_int.loc[var]\n",
        "\n",
        "    if pval < 0.05:\n",
        "        interpretacion.append(f\"✅ **{var}**: significativa (p = {pval:.3f}), con coeficiente = {beta:.3f}. Intervalo de confianza: [{intervalo[0]:.3f}, {intervalo[1]:.3f}]\")\n",
        "        if beta > 0:\n",
        "            recomendaciones.append(f\"➡️ *Cuando **{var}** aumenta, la propina tiende a aumentar.*\")\n",
        "        else:\n",
        "            recomendaciones.append(f\"⬅️ *Cuando **{var}** aumenta, la propina tiende a disminuir.*\")\n",
        "    else:\n",
        "        interpretacion.append(f\"⚠️ **{var}**: NO significativa (p = {pval:.3f}). Intervalo de confianza: [{intervalo[0]:.3f}, {intervalo[1]:.3f}]\")\n",
        "        recomendaciones.append(f\"❌ *Considera eliminar **{var}** del modelo o investigar si tiene una relación no lineal con la variable dependiente.*\")\n",
        "\n",
        "# =============================\n",
        "# Mostrar en Colab\n",
        "# =============================\n",
        "\n",
        "display(Markdown(\"\\n\".join(interpretacion)))\n",
        "display(Markdown(\"🧠 **Recomendaciones basadas en los resultados:**\"))\n",
        "display(Markdown(\"\\n\".join(recomendaciones)))\n"
      ]
    },
    {
      "cell_type": "markdown",
      "metadata": {
        "id": "AufZUIx7CwmD"
      },
      "source": [
        "En este modelo buscamos entender si el total de la cuenta (total_bill_L) y el tamaño del grupo (size_L) influyen sobre el valor de la propina (tip_L), usando una regresión múltiple con variables logarítmicas.\n",
        "\n",
        "Ambas variables resultaron significativas estadísticamente, lo que confirma que sí tienen un impacto sobre la propina. El total de la cuenta es el que más influye, pero el tamaño del grupo también aporta al comportamiento.\n",
        "\n",
        "El modelo logra explicar un 41.9% de la variabilidad de la propina, lo cual no está mal para un primer acercamiento con solo dos variables.\n",
        "\n",
        "Detectamos una posible ligera desviación de la normalidad en los residuos, así que más adelante podríamos revisar eso con más detalle. Sin embargo, no hay autocorrelación y el modelo cumple con buena parte de los supuestos básicos.\n",
        "\n",
        "En resumen, la propina se ve afectada tanto por lo que se gasta como por cuántas personas están en la mesa, y el modelo nos permite predecir con una precisión razonable. Aún hay espacio para mejorar, posiblemente incluyendo nuevas variables o transformaciones."
      ]
    },
    {
      "cell_type": "markdown",
      "metadata": {
        "id": "Zzai8Yg4lMWN"
      },
      "source": [
        "## **Validacion de Supuestos**"
      ]
    },
    {
      "cell_type": "markdown",
      "metadata": {
        "id": "p9ZHODx5mQus"
      },
      "source": [
        "## **No existencia de Multicolinealidad**"
      ]
    },
    {
      "cell_type": "code",
      "execution_count": 11,
      "metadata": {
        "colab": {
          "base_uri": "https://localhost:8080/",
          "height": 706
        },
        "id": "BvJC-nidhJbB",
        "outputId": "079aadaf-9b03-4d8e-e7de-e0850fe8664d"
      },
      "outputs": [
        {
          "name": "stderr",
          "output_type": "stream",
          "text": [
            "C:\\Users\\eliana\\AppData\\Roaming\\Python\\Python313\\site-packages\\IPython\\core\\pylabtools.py:170: UserWarning: Glyph 128269 (\\N{LEFT-POINTING MAGNIFYING GLASS}) missing from font(s) DejaVu Sans.\n",
            "  fig.canvas.print_figure(bytes_io, **kw)\n"
          ]
        },
        {
          "data": {
            "image/png": "[encoded data removed]",
            "text/plain": [
              "<Figure size 800x600 with 2 Axes>"
            ]
          },
          "metadata": {},
          "output_type": "display_data"
        },
        {
          "data": {
            "text/markdown": [
              "### 📌 Interpretación de Correlaciones entre Variables"
            ],
            "text/plain": [
              "<IPython.core.display.Markdown object>"
            ]
          },
          "metadata": {},
          "output_type": "display_data"
        },
        {
          "data": {
            "text/markdown": [
              "✅ **total_bill_L** y **tip_L** tienen una correlación moderada de **0.64**.\n",
              "✅ **total_bill_L** y **size_L** tienen una correlación moderada de **0.61**.\n",
              "🔎 **tip_L** y **size_L** tienen una correlación baja de **0.47**."
            ],
            "text/plain": [
              "<IPython.core.display.Markdown object>"
            ]
          },
          "metadata": {},
          "output_type": "display_data"
        },
        {
          "data": {
            "text/markdown": [
              "✅ No se detectaron correlaciones preocupantes entre las variables."
            ],
            "text/plain": [
              "<IPython.core.display.Markdown object>"
            ]
          },
          "metadata": {},
          "output_type": "display_data"
        }
      ],
      "source": [
        "#Análisis de correlaciones para variables en data set de entrenamiento. ( OJO acá estamos poniendo las logaritmicas)\n",
        "\n",
        "import seaborn as sns\n",
        "import matplotlib.pyplot as plt\n",
        "import pandas as pd\n",
        "from IPython.display import Markdown, display\n",
        "\n",
        "# Matriz de correlaciones\n",
        "correlation_matrix = X_train_L.corr()\n",
        "\n",
        "# Visualización de mapa de calor\n",
        "plt.figure(figsize=(8, 6))\n",
        "sns.heatmap(correlation_matrix, annot=True, cmap=\"Blues\", center=0, fmt=\".2f\", square=True, linewidths=0.5)\n",
        "plt.title(\"🔍 Mapa de Calor de Correlaciones entre Variables Predictoras\")\n",
        "plt.show()\n",
        "\n",
        "# =====================================\n",
        "# Interpretación automática\n",
        "# =====================================\n",
        "\n",
        "interpretaciones = []\n",
        "recomendaciones = []\n",
        "\n",
        "# Iterar sobre la matriz de correlaciones\n",
        "for i in range(len(correlation_matrix.columns)):\n",
        "    for j in range(i + 1, len(correlation_matrix.columns)):\n",
        "        var1 = correlation_matrix.columns[i]\n",
        "        var2 = correlation_matrix.columns[j]\n",
        "        corr = correlation_matrix.iloc[i, j]\n",
        "\n",
        "        # Clasificación de la correlación\n",
        "        if abs(corr) >= 0.8:\n",
        "            interpretaciones.append(f\"⚠️ **{var1}** y **{var2}** tienen una correlación muy fuerte de **{corr:.2f}**.\")\n",
        "            recomendaciones.append(f\"🔍 *Revisa si ambas variables son necesarias en el modelo. Podrías considerar eliminar una para evitar multicolinealidad.*\")\n",
        "        elif abs(corr) >= 0.5:\n",
        "            interpretaciones.append(f\"✅ **{var1}** y **{var2}** tienen una correlación moderada de **{corr:.2f}**.\")\n",
        "        elif abs(corr) >= 0.3:\n",
        "            interpretaciones.append(f\"🔎 **{var1}** y **{var2}** tienen una correlación baja de **{corr:.2f}**.\")\n",
        "        else:\n",
        "            interpretaciones.append(f\"ℹ️ **{var1}** y **{var2}** tienen muy poca correlación (**{corr:.2f}**).\")\n",
        "\n",
        "# Mostrar resultados\n",
        "display(Markdown(\"### 📌 Interpretación de Correlaciones entre Variables\"))\n",
        "display(Markdown(\"\\n\".join(interpretaciones)))\n",
        "\n",
        "if recomendaciones:\n",
        "    display(Markdown(\"### 🧠 Recomendaciones basadas en correlaciones\"))\n",
        "    display(Markdown(\"\\n\".join(set(recomendaciones))))\n",
        "else:\n",
        "    display(Markdown(\"✅ No se detectaron correlaciones preocupantes entre las variables.\"))\n"
      ]
    },
    {
      "cell_type": "code",
      "execution_count": 12,
      "metadata": {
        "colab": {
          "base_uri": "https://localhost:8080/",
          "height": 344
        },
        "id": "D8f7xPtRLCbY",
        "outputId": "a5f957c9-ced1-41fa-80a8-56ea4e0f5da2"
      },
      "outputs": [
        {
          "data": {
            "text/markdown": [
              "### 📊 Tabla de VIF (Factor de Inflación de Varianza)"
            ],
            "text/plain": [
              "<IPython.core.display.Markdown object>"
            ]
          },
          "metadata": {},
          "output_type": "display_data"
        },
        {
          "data": {
            "text/html": [
              "<div>\n",
              "<style scoped>\n",
              "    .dataframe tbody tr th:only-of-type {\n",
              "        vertical-align: middle;\n",
              "    }\n",
              "\n",
              "    .dataframe tbody tr th {\n",
              "        vertical-align: top;\n",
              "    }\n",
              "\n",
              "    .dataframe thead th {\n",
              "        text-align: right;\n",
              "    }\n",
              "</style>\n",
              "<table border=\"1\" class=\"dataframe\">\n",
              "  <thead>\n",
              "    <tr style=\"text-align: right;\">\n",
              "      <th></th>\n",
              "      <th>features</th>\n",
              "      <th>VIF Factor</th>\n",
              "    </tr>\n",
              "  </thead>\n",
              "  <tbody>\n",
              "    <tr>\n",
              "      <th>0</th>\n",
              "      <td>total_bill_L</td>\n",
              "      <td>17.30</td>\n",
              "    </tr>\n",
              "    <tr>\n",
              "      <th>1</th>\n",
              "      <td>tip_L</td>\n",
              "      <td>9.74</td>\n",
              "    </tr>\n",
              "    <tr>\n",
              "      <th>2</th>\n",
              "      <td>size_L</td>\n",
              "      <td>13.00</td>\n",
              "    </tr>\n",
              "  </tbody>\n",
              "</table>\n",
              "</div>"
            ],
            "text/plain": [
              "       features  VIF Factor\n",
              "0  total_bill_L       17.30\n",
              "1         tip_L        9.74\n",
              "2        size_L       13.00"
            ]
          },
          "metadata": {},
          "output_type": "display_data"
        },
        {
          "data": {
            "text/markdown": [
              "### 📌 Interpretación de VIF por variable"
            ],
            "text/plain": [
              "<IPython.core.display.Markdown object>"
            ]
          },
          "metadata": {},
          "output_type": "display_data"
        },
        {
          "data": {
            "text/markdown": [
              "⚠️ **total_bill_L** presenta una **multicolinealidad muy severa** (VIF = 17.30).\n",
              "🔶 **tip_L** tiene una **multicolinealidad moderada** (VIF = 9.74).\n",
              "⚠️ **size_L** presenta una **multicolinealidad muy severa** (VIF = 13.00)."
            ],
            "text/plain": [
              "<IPython.core.display.Markdown object>"
            ]
          },
          "metadata": {},
          "output_type": "display_data"
        },
        {
          "data": {
            "text/markdown": [
              "### 🧠 Recomendaciones para mejorar el modelo"
            ],
            "text/plain": [
              "<IPython.core.display.Markdown object>"
            ]
          },
          "metadata": {},
          "output_type": "display_data"
        },
        {
          "data": {
            "text/markdown": [
              "🔍 Considera eliminar o combinar **total_bill_L** con otra variable para mejorar la estabilidad del modelo.\n",
              "📌 Revisa si **tip_L** es esencial para el modelo.\n",
              "🔍 Considera eliminar o combinar **size_L** con otra variable para mejorar la estabilidad del modelo."
            ],
            "text/plain": [
              "<IPython.core.display.Markdown object>"
            ]
          },
          "metadata": {},
          "output_type": "display_data"
        }
      ],
      "source": [
        "import pandas as pd\n",
        "from statsmodels.stats.outliers_influence import variance_inflation_factor\n",
        "from IPython.display import Markdown, display\n",
        "\n",
        "# ===============================\n",
        "# Cálculo de VIF\n",
        "# ===============================\n",
        "vif = pd.DataFrame()\n",
        "vif[\"features\"] = X_train_L.columns\n",
        "vif[\"VIF Factor\"] = [variance_inflation_factor(X_train_L.values, i) for i in range(X_train_L.shape[1])]\n",
        "\n",
        "# ===============================\n",
        "# Mostrar tabla VIF\n",
        "# ===============================\n",
        "display(Markdown(\"### 📊 Tabla de VIF (Factor de Inflación de Varianza)\"))\n",
        "display(vif.round(2))\n",
        "\n",
        "# ===============================\n",
        "# Interpretación automática\n",
        "# ===============================\n",
        "interpretaciones = []\n",
        "recomendaciones = []\n",
        "\n",
        "for index, row in vif.iterrows():\n",
        "    feature = row['features']\n",
        "    vif_value = row['VIF Factor']\n",
        "\n",
        "    if vif_value > 10:\n",
        "        interpretaciones.append(f\"⚠️ **{feature}** presenta una **multicolinealidad muy severa** (VIF = {vif_value:.2f}).\")\n",
        "        recomendaciones.append(f\"🔍 Considera eliminar o combinar **{feature}** con otra variable para mejorar la estabilidad del modelo.\")\n",
        "    elif vif_value > 5:\n",
        "        interpretaciones.append(f\"🔶 **{feature}** tiene una **multicolinealidad moderada** (VIF = {vif_value:.2f}).\")\n",
        "        recomendaciones.append(f\"📌 Revisa si **{feature}** es esencial para el modelo.\")\n",
        "    else:\n",
        "        interpretaciones.append(f\"✅ **{feature}** tiene un VIF bajo (VIF = {vif_value:.2f}), lo que indica baja multicolinealidad.\")\n",
        "\n",
        "# ===============================\n",
        "# Mostrar interpretación\n",
        "# ===============================\n",
        "display(Markdown(\"### 📌 Interpretación de VIF por variable\"))\n",
        "display(Markdown(\"\\n\".join(interpretaciones)))\n",
        "\n",
        "if recomendaciones:\n",
        "    display(Markdown(\"### 🧠 Recomendaciones para mejorar el modelo\"))\n",
        "    display(Markdown(\"\\n\".join(set(recomendaciones))))\n",
        "else:\n",
        "    display(Markdown(\"✅ No se detectaron problemas de multicolinealidad. ¡Buen trabajo!\"))\n"
      ]
    },
    {
      "cell_type": "markdown",
      "metadata": {
        "id": "y0HgFvndo_O7"
      },
      "source": [
        "### **Hay Multicolinealidad**\n",
        "\n"
      ]
    },
    {
      "cell_type": "markdown",
      "metadata": {
        "id": "1aS8ys3lpGfO"
      },
      "source": [
        "**Solución de la multicolinealidad: se debe solucionar en todo el conjunto de datos y volver a dividir en train y test**"
      ]
    },
    {
      "cell_type": "code",
      "execution_count": 13,
      "metadata": {
        "id": "juD7ktcLvraB"
      },
      "outputs": [],
      "source": [
        "#Estamos tomando la información de las variables ya pasadas por logaritmo.\n",
        "explicatorias=datos[[\"total_bill_L\",\"tip_L\",\"size_L\"]]"
      ]
    },
    {
      "cell_type": "code",
      "execution_count": 14,
      "metadata": {
        "colab": {
          "base_uri": "https://localhost:8080/",
          "height": 143
        },
        "id": "3YhMALAdpMFW",
        "outputId": "9477e4e2-1494-46f8-9674-2f0ccd51f19d"
      },
      "outputs": [
        {
          "data": {
            "text/html": [
              "<div>\n",
              "<style scoped>\n",
              "    .dataframe tbody tr th:only-of-type {\n",
              "        vertical-align: middle;\n",
              "    }\n",
              "\n",
              "    .dataframe tbody tr th {\n",
              "        vertical-align: top;\n",
              "    }\n",
              "\n",
              "    .dataframe thead th {\n",
              "        text-align: right;\n",
              "    }\n",
              "</style>\n",
              "<table border=\"1\" class=\"dataframe\">\n",
              "  <thead>\n",
              "    <tr style=\"text-align: right;\">\n",
              "      <th></th>\n",
              "      <th>VarPerc</th>\n",
              "      <th>cumVarPerc</th>\n",
              "    </tr>\n",
              "  </thead>\n",
              "  <tbody>\n",
              "    <tr>\n",
              "      <th>PC1</th>\n",
              "      <td>73.311032</td>\n",
              "      <td>73.311032</td>\n",
              "    </tr>\n",
              "    <tr>\n",
              "      <th>PC2</th>\n",
              "      <td>16.965385</td>\n",
              "      <td>90.276417</td>\n",
              "    </tr>\n",
              "    <tr>\n",
              "      <th>PC3</th>\n",
              "      <td>9.723583</td>\n",
              "      <td>100.000000</td>\n",
              "    </tr>\n",
              "  </tbody>\n",
              "</table>\n",
              "</div>"
            ],
            "text/plain": [
              "       VarPerc  cumVarPerc\n",
              "PC1  73.311032   73.311032\n",
              "PC2  16.965385   90.276417\n",
              "PC3   9.723583  100.000000"
            ]
          },
          "execution_count": 14,
          "metadata": {},
          "output_type": "execute_result"
        }
      ],
      "source": [
        "#PCA Será aplicado a variables con logaritmo.\n",
        "scaler = StandardScaler()\n",
        "explicatorias_scaled = scaler.fit_transform(explicatorias)\n",
        "pca = PCA()\n",
        "res_pca = pca.fit(explicatorias_scaled)\n",
        "cumVar = pd.DataFrame(np.cumsum(res_pca.explained_variance_ratio_)*100,\n",
        "                      columns=[\"cumVarPerc\"])\n",
        "expVar = pd.DataFrame(res_pca.explained_variance_ratio_*100, columns=[\"VarPerc\"])\n",
        "pd.concat([expVar, cumVar], axis=1)\\\n",
        "    .rename(index={0: \"PC1\", 1: \"PC2\", 2: \"PC3\", 3: \"PC4\", 4: \"PC5\", 5: \"PC6\", 6: \"PC7\", 7: \"PC8\", 8: \"PC9\", 9: \"PC10\"})\n"
      ]
    },
    {
      "cell_type": "code",
      "execution_count": 15,
      "metadata": {
        "colab": {
          "base_uri": "https://localhost:8080/"
        },
        "id": "RAcuNonp0_lz",
        "outputId": "69187cbe-4e04-48e1-9028-57dfe2c28b6e"
      },
      "outputs": [
        {
          "name": "stdout",
          "output_type": "stream",
          "text": [
            "\n",
            "Cargas de los componentes (loadings):\n",
            "[[ 0.608   0.5722  0.5503]\n",
            " [-0.1175 -0.6207  0.7752]\n",
            " [ 0.7852 -0.5361 -0.3101]]\n"
          ]
        }
      ],
      "source": [
        "#Los loadings\n",
        "np.set_printoptions(suppress=True)\n",
        "print(\"\\nCargas de los componentes (loadings):\")\n",
        "print(np.round(res_pca.components_, 4))"
      ]
    },
    {
      "cell_type": "code",
      "execution_count": 16,
      "metadata": {
        "colab": {
          "base_uri": "https://localhost:8080/",
          "height": 143
        },
        "id": "54f5092d",
        "outputId": "1a467708-03bd-4f04-cb47-62de14b51e9c"
      },
      "outputs": [
        {
          "data": {
            "text/html": [
              "<div>\n",
              "<style scoped>\n",
              "    .dataframe tbody tr th:only-of-type {\n",
              "        vertical-align: middle;\n",
              "    }\n",
              "\n",
              "    .dataframe tbody tr th {\n",
              "        vertical-align: top;\n",
              "    }\n",
              "\n",
              "    .dataframe thead th {\n",
              "        text-align: right;\n",
              "    }\n",
              "</style>\n",
              "<table border=\"1\" class=\"dataframe\">\n",
              "  <thead>\n",
              "    <tr style=\"text-align: right;\">\n",
              "      <th></th>\n",
              "      <th>PC1</th>\n",
              "      <th>PC2</th>\n",
              "      <th>PC3</th>\n",
              "    </tr>\n",
              "  </thead>\n",
              "  <tbody>\n",
              "    <tr>\n",
              "      <th>total_bill_L</th>\n",
              "      <td>0.608048</td>\n",
              "      <td>-0.117539</td>\n",
              "      <td>0.785151</td>\n",
              "    </tr>\n",
              "    <tr>\n",
              "      <th>tip_L</th>\n",
              "      <td>0.572210</td>\n",
              "      <td>-0.620663</td>\n",
              "      <td>-0.536054</td>\n",
              "    </tr>\n",
              "    <tr>\n",
              "      <th>size_L</th>\n",
              "      <td>0.550322</td>\n",
              "      <td>0.775217</td>\n",
              "      <td>-0.310136</td>\n",
              "    </tr>\n",
              "  </tbody>\n",
              "</table>\n",
              "</div>"
            ],
            "text/plain": [
              "                   PC1       PC2       PC3\n",
              "total_bill_L  0.608048 -0.117539  0.785151\n",
              "tip_L         0.572210 -0.620663 -0.536054\n",
              "size_L        0.550322  0.775217 -0.310136"
            ]
          },
          "metadata": {},
          "output_type": "display_data"
        }
      ],
      "source": [
        "# Create a DataFrame to display the loadings\n",
        "loadings_df = pd.DataFrame(\n",
        "    data=res_pca.components_.T,\n",
        "    columns=[f\"PC{i+1}\" for i in range(res_pca.n_components_)],\n",
        "    index=explicatorias.columns\n",
        ")\n",
        "\n",
        "# Display the loadings\n",
        "display(loadings_df)"
      ]
    },
    {
      "cell_type": "code",
      "execution_count": 17,
      "metadata": {
        "id": "NxUjqu78qGX6"
      },
      "outputs": [],
      "source": [
        "#Elegimos el número de componentes a guardar según el % de varianza acumulada\n",
        "res_pca = pca.fit(explicatorias_scaled)\n",
        "pred_pca = res_pca.transform(explicatorias_scaled)\n",
        "df_pred = pd.DataFrame(pred_pca, columns=[f\"PC{i+1}\" for i in range(pred_pca.shape[1])])\n",
        "#componentes = df_pred[[\"PC1\"]].copy() #recuerde que acá guarda el número de componentes\n",
        "componentes = df_pred[[\"PC1\", \"PC2\"]].copy()\n"
      ]
    },
    {
      "cell_type": "code",
      "execution_count": 18,
      "metadata": {
        "colab": {
          "base_uri": "https://localhost:8080/"
        },
        "id": "CQ566LUqB79F",
        "outputId": "b7f6265e-892b-4b31-bdfc-8bd4277fd07c"
      },
      "outputs": [
        {
          "name": "stdout",
          "output_type": "stream",
          "text": [
            "<class 'pandas.core.frame.DataFrame'>\n",
            "RangeIndex: 244 entries, 0 to 243\n",
            "Data columns (total 2 columns):\n",
            " #   Column  Non-Null Count  Dtype  \n",
            "---  ------  --------------  -----  \n",
            " 0   PC1     244 non-null    float64\n",
            " 1   PC2     244 non-null    float64\n",
            "dtypes: float64(2)\n",
            "memory usage: 3.9 KB\n"
          ]
        }
      ],
      "source": [
        "componentes.info()"
      ]
    },
    {
      "cell_type": "code",
      "execution_count": 19,
      "metadata": {
        "colab": {
          "base_uri": "https://localhost:8080/",
          "height": 264
        },
        "id": "MxjScUO1CvUD",
        "outputId": "e4348c72-8237-489d-f78f-03a38635f3e2"
      },
      "outputs": [
        {
          "name": "stdout",
          "output_type": "stream",
          "text": [
            "Cargas de los componentes:\n",
            "                   PC1       PC2\n",
            "total_bill_L  0.608048 -0.117539\n",
            "tip_L         0.572210 -0.620663\n",
            "size_L        0.550322  0.775217\n",
            "\n",
            "Valores propios:\n",
            "[2.2083817  0.51105604]\n"
          ]
        },
        {
          "data": {
            "text/html": [
              "<div>\n",
              "<style scoped>\n",
              "    .dataframe tbody tr th:only-of-type {\n",
              "        vertical-align: middle;\n",
              "    }\n",
              "\n",
              "    .dataframe tbody tr th {\n",
              "        vertical-align: top;\n",
              "    }\n",
              "\n",
              "    .dataframe thead th {\n",
              "        text-align: right;\n",
              "    }\n",
              "</style>\n",
              "<table border=\"1\" class=\"dataframe\">\n",
              "  <thead>\n",
              "    <tr style=\"text-align: right;\">\n",
              "      <th></th>\n",
              "      <th>Componente</th>\n",
              "      <th>Varianza Explicada</th>\n",
              "      <th>Proporción (%)</th>\n",
              "      <th>Acumulada (%)</th>\n",
              "    </tr>\n",
              "  </thead>\n",
              "  <tbody>\n",
              "    <tr>\n",
              "      <th>0</th>\n",
              "      <td>PC1</td>\n",
              "      <td>2.208382</td>\n",
              "      <td>73.311032</td>\n",
              "      <td>73.311032</td>\n",
              "    </tr>\n",
              "    <tr>\n",
              "      <th>1</th>\n",
              "      <td>PC2</td>\n",
              "      <td>0.511056</td>\n",
              "      <td>16.965385</td>\n",
              "      <td>90.276417</td>\n",
              "    </tr>\n",
              "  </tbody>\n",
              "</table>\n",
              "</div>"
            ],
            "text/plain": [
              "  Componente  Varianza Explicada  Proporción (%)  Acumulada (%)\n",
              "0        PC1            2.208382       73.311032      73.311032\n",
              "1        PC2            0.511056       16.965385      90.276417"
            ]
          },
          "execution_count": 19,
          "metadata": {},
          "output_type": "execute_result"
        }
      ],
      "source": [
        "# PCA con dos componentes principales\n",
        "from sklearn.preprocessing import StandardScaler\n",
        "from sklearn.decomposition import PCA\n",
        "\n",
        "# Estandarizar variables continuas\n",
        "scaler = StandardScaler()\n",
        "continuas_scaled = scaler.fit_transform(continuas_L)\n",
        "\n",
        "# Ajustar PCA\n",
        "pca = PCA(n_components=2)  # 👉 Solo tomamos PC1 y PC2\n",
        "pca_result = pca.fit(continuas_scaled)\n",
        "\n",
        "# Cargas de los componentes (equivalente a cargas factoriales)\n",
        "print(\"Cargas de los componentes:\")\n",
        "cargas = pd.DataFrame(pca.components_.T, index=continuas_L.columns, columns=[\"PC1\", \"PC2\"])\n",
        "print(cargas)\n",
        "\n",
        "# Valores propios (eigenvalues)\n",
        "print(\"\\nValores propios:\")\n",
        "eigenvalues = pca.explained_variance_\n",
        "print(eigenvalues)\n",
        "\n",
        "# Varianza explicada, proporción y acumulada\n",
        "varianza_explicada = pca.explained_variance_\n",
        "proporcion_varianza = pca.explained_variance_ratio_\n",
        "varianza_acumulada = proporcion_varianza.cumsum()\n",
        "\n",
        "# Estructurar DataFrame resumen\n",
        "df_varianza = pd.DataFrame({\n",
        "    'Componente': ['PC1', 'PC2'],\n",
        "    'Varianza Explicada': varianza_explicada,\n",
        "    'Proporción (%)': proporcion_varianza * 100,\n",
        "    'Acumulada (%)': varianza_acumulada * 100\n",
        "})\n",
        "\n",
        "df_varianza\n"
      ]
    },
    {
      "cell_type": "code",
      "execution_count": 20,
      "metadata": {
        "colab": {
          "base_uri": "https://localhost:8080/"
        },
        "id": "iHTh9wqbFqnm",
        "outputId": "4bc5dc92-d5ec-4627-f697-e69f57a418b9"
      },
      "outputs": [
        {
          "name": "stdout",
          "output_type": "stream",
          "text": [
            "<class 'pandas.core.frame.DataFrame'>\n",
            "RangeIndex: 244 entries, 0 to 243\n",
            "Data columns (total 10 columns):\n",
            " #   Column        Non-Null Count  Dtype  \n",
            "---  ------        --------------  -----  \n",
            " 0   total_bill    244 non-null    float64\n",
            " 1   tip           244 non-null    float64\n",
            " 2   sex           244 non-null    object \n",
            " 3   smoker        244 non-null    object \n",
            " 4   day           244 non-null    object \n",
            " 5   time          244 non-null    object \n",
            " 6   size          244 non-null    int64  \n",
            " 7   total_bill_L  244 non-null    float64\n",
            " 8   tip_L         244 non-null    float64\n",
            " 9   size_L        244 non-null    float64\n",
            "dtypes: float64(5), int64(1), object(4)\n",
            "memory usage: 19.2+ KB\n"
          ]
        }
      ],
      "source": [
        "datos.info()"
      ]
    },
    {
      "cell_type": "code",
      "execution_count": 21,
      "metadata": {
        "colab": {
          "base_uri": "https://localhost:8080/",
          "height": 223
        },
        "id": "f4PS6nhIylR2",
        "outputId": "bfb15d5b-49ff-47b9-fbb6-205963b16e60"
      },
      "outputs": [
        {
          "name": "stdout",
          "output_type": "stream",
          "text": [
            "✅ Componentes concatenados correctamente.\n"
          ]
        },
        {
          "data": {
            "text/html": [
              "<div>\n",
              "<style scoped>\n",
              "    .dataframe tbody tr th:only-of-type {\n",
              "        vertical-align: middle;\n",
              "    }\n",
              "\n",
              "    .dataframe tbody tr th {\n",
              "        vertical-align: top;\n",
              "    }\n",
              "\n",
              "    .dataframe thead th {\n",
              "        text-align: right;\n",
              "    }\n",
              "</style>\n",
              "<table border=\"1\" class=\"dataframe\">\n",
              "  <thead>\n",
              "    <tr style=\"text-align: right;\">\n",
              "      <th></th>\n",
              "      <th>total_bill</th>\n",
              "      <th>tip</th>\n",
              "      <th>sex</th>\n",
              "      <th>smoker</th>\n",
              "      <th>day</th>\n",
              "      <th>time</th>\n",
              "      <th>size</th>\n",
              "      <th>total_bill_L</th>\n",
              "      <th>tip_L</th>\n",
              "      <th>size_L</th>\n",
              "      <th>PC1</th>\n",
              "      <th>PC2</th>\n",
              "    </tr>\n",
              "  </thead>\n",
              "  <tbody>\n",
              "    <tr>\n",
              "      <th>0</th>\n",
              "      <td>16.99</td>\n",
              "      <td>1.01</td>\n",
              "      <td>Female</td>\n",
              "      <td>No</td>\n",
              "      <td>Sun</td>\n",
              "      <td>Dinner</td>\n",
              "      <td>2</td>\n",
              "      <td>2.832625</td>\n",
              "      <td>0.009950</td>\n",
              "      <td>0.693147</td>\n",
              "      <td>-1.712620</td>\n",
              "      <td>0.969288</td>\n",
              "    </tr>\n",
              "    <tr>\n",
              "      <th>1</th>\n",
              "      <td>10.34</td>\n",
              "      <td>1.66</td>\n",
              "      <td>Male</td>\n",
              "      <td>No</td>\n",
              "      <td>Sun</td>\n",
              "      <td>Dinner</td>\n",
              "      <td>3</td>\n",
              "      <td>2.336020</td>\n",
              "      <td>0.506818</td>\n",
              "      <td>1.098612</td>\n",
              "      <td>-1.062917</td>\n",
              "      <td>1.360340</td>\n",
              "    </tr>\n",
              "    <tr>\n",
              "      <th>2</th>\n",
              "      <td>21.01</td>\n",
              "      <td>3.50</td>\n",
              "      <td>Male</td>\n",
              "      <td>No</td>\n",
              "      <td>Sun</td>\n",
              "      <td>Dinner</td>\n",
              "      <td>3</td>\n",
              "      <td>3.044999</td>\n",
              "      <td>1.252763</td>\n",
              "      <td>1.098612</td>\n",
              "      <td>0.902003</td>\n",
              "      <td>0.106399</td>\n",
              "    </tr>\n",
              "    <tr>\n",
              "      <th>3</th>\n",
              "      <td>23.68</td>\n",
              "      <td>3.31</td>\n",
              "      <td>Male</td>\n",
              "      <td>No</td>\n",
              "      <td>Sun</td>\n",
              "      <td>Dinner</td>\n",
              "      <td>2</td>\n",
              "      <td>3.164631</td>\n",
              "      <td>1.196948</td>\n",
              "      <td>0.693147</td>\n",
              "      <td>0.308759</td>\n",
              "      <td>-0.812399</td>\n",
              "    </tr>\n",
              "    <tr>\n",
              "      <th>4</th>\n",
              "      <td>24.59</td>\n",
              "      <td>3.61</td>\n",
              "      <td>Female</td>\n",
              "      <td>No</td>\n",
              "      <td>Sun</td>\n",
              "      <td>Dinner</td>\n",
              "      <td>4</td>\n",
              "      <td>3.202340</td>\n",
              "      <td>1.283708</td>\n",
              "      <td>1.386294</td>\n",
              "      <td>1.647817</td>\n",
              "      <td>0.705635</td>\n",
              "    </tr>\n",
              "  </tbody>\n",
              "</table>\n",
              "</div>"
            ],
            "text/plain": [
              "   total_bill   tip     sex smoker  day    time  size  total_bill_L     tip_L  \\\n",
              "0       16.99  1.01  Female     No  Sun  Dinner     2      2.832625  0.009950   \n",
              "1       10.34  1.66    Male     No  Sun  Dinner     3      2.336020  0.506818   \n",
              "2       21.01  3.50    Male     No  Sun  Dinner     3      3.044999  1.252763   \n",
              "3       23.68  3.31    Male     No  Sun  Dinner     2      3.164631  1.196948   \n",
              "4       24.59  3.61  Female     No  Sun  Dinner     4      3.202340  1.283708   \n",
              "\n",
              "     size_L       PC1       PC2  \n",
              "0  0.693147 -1.712620  0.969288  \n",
              "1  1.098612 -1.062917  1.360340  \n",
              "2  1.098612  0.902003  0.106399  \n",
              "3  0.693147  0.308759 -0.812399  \n",
              "4  1.386294  1.647817  0.705635  "
            ]
          },
          "metadata": {},
          "output_type": "display_data"
        }
      ],
      "source": [
        "# Validar si hay columnas duplicadas antes de concatenar\n",
        "columnas_duplicadas = [col for col in componentes.columns if col in datos.columns]\n",
        "\n",
        "if columnas_duplicadas:\n",
        "    print(\"🚫 No se puede concatenar. Las siguientes columnas ya existen en 'datos':\")\n",
        "    for col in columnas_duplicadas:\n",
        "        print(f\" - {col}\")\n",
        "    print(\"🛑 Ajusta los nombres de las columnas para evitar conflictos.\")\n",
        "    display(datos.head())\n",
        "else:\n",
        "    # Si no hay conflicto, concatena\n",
        "    datos = pd.concat([datos, componentes], axis=1)\n",
        "    print(\"✅ Componentes concatenados correctamente.\")\n",
        "    display(datos.head())\n"
      ]
    },
    {
      "cell_type": "markdown",
      "metadata": {
        "id": "WKzk7VNlv_tZ"
      },
      "source": [
        "**Volvemos a dividir los datos en entrenamiento (train) y testeo (test)**"
      ]
    },
    {
      "cell_type": "code",
      "execution_count": 22,
      "metadata": {
        "colab": {
          "base_uri": "https://localhost:8080/",
          "height": 394
        },
        "id": "emLvJskby4lm",
        "outputId": "7b1e9098-072e-4ddd-84a2-dc14509756fd"
      },
      "outputs": [
        {
          "data": {
            "text/html": [
              "<div>\n",
              "<style scoped>\n",
              "    .dataframe tbody tr th:only-of-type {\n",
              "        vertical-align: middle;\n",
              "    }\n",
              "\n",
              "    .dataframe tbody tr th {\n",
              "        vertical-align: top;\n",
              "    }\n",
              "\n",
              "    .dataframe thead th {\n",
              "        text-align: right;\n",
              "    }\n",
              "</style>\n",
              "<table border=\"1\" class=\"dataframe\">\n",
              "  <thead>\n",
              "    <tr style=\"text-align: right;\">\n",
              "      <th></th>\n",
              "      <th>total_bill</th>\n",
              "      <th>tip</th>\n",
              "      <th>sex</th>\n",
              "      <th>smoker</th>\n",
              "      <th>day</th>\n",
              "      <th>time</th>\n",
              "      <th>size</th>\n",
              "      <th>total_bill_L</th>\n",
              "      <th>tip_L</th>\n",
              "      <th>size_L</th>\n",
              "      <th>PC1</th>\n",
              "      <th>PC2</th>\n",
              "    </tr>\n",
              "  </thead>\n",
              "  <tbody>\n",
              "    <tr>\n",
              "      <th>151</th>\n",
              "      <td>13.13</td>\n",
              "      <td>2.00</td>\n",
              "      <td>Male</td>\n",
              "      <td>No</td>\n",
              "      <td>Sun</td>\n",
              "      <td>Dinner</td>\n",
              "      <td>2</td>\n",
              "      <td>2.574900</td>\n",
              "      <td>0.693147</td>\n",
              "      <td>0.693147</td>\n",
              "      <td>-1.172280</td>\n",
              "      <td>0.064256</td>\n",
              "    </tr>\n",
              "    <tr>\n",
              "      <th>34</th>\n",
              "      <td>17.78</td>\n",
              "      <td>3.27</td>\n",
              "      <td>Male</td>\n",
              "      <td>No</td>\n",
              "      <td>Sat</td>\n",
              "      <td>Dinner</td>\n",
              "      <td>2</td>\n",
              "      <td>2.878074</td>\n",
              "      <td>1.184790</td>\n",
              "      <td>0.693147</td>\n",
              "      <td>-0.105055</td>\n",
              "      <td>-0.718159</td>\n",
              "    </tr>\n",
              "    <tr>\n",
              "      <th>109</th>\n",
              "      <td>14.31</td>\n",
              "      <td>4.00</td>\n",
              "      <td>Female</td>\n",
              "      <td>Yes</td>\n",
              "      <td>Sat</td>\n",
              "      <td>Dinner</td>\n",
              "      <td>2</td>\n",
              "      <td>2.660959</td>\n",
              "      <td>1.386294</td>\n",
              "      <td>0.693147</td>\n",
              "      <td>-0.141578</td>\n",
              "      <td>-0.947225</td>\n",
              "    </tr>\n",
              "    <tr>\n",
              "      <th>4</th>\n",
              "      <td>24.59</td>\n",
              "      <td>3.61</td>\n",
              "      <td>Female</td>\n",
              "      <td>No</td>\n",
              "      <td>Sun</td>\n",
              "      <td>Dinner</td>\n",
              "      <td>4</td>\n",
              "      <td>3.202340</td>\n",
              "      <td>1.283708</td>\n",
              "      <td>1.386294</td>\n",
              "      <td>1.647817</td>\n",
              "      <td>0.705635</td>\n",
              "    </tr>\n",
              "    <tr>\n",
              "      <th>114</th>\n",
              "      <td>25.71</td>\n",
              "      <td>4.00</td>\n",
              "      <td>Female</td>\n",
              "      <td>No</td>\n",
              "      <td>Sun</td>\n",
              "      <td>Dinner</td>\n",
              "      <td>3</td>\n",
              "      <td>3.246880</td>\n",
              "      <td>1.386294</td>\n",
              "      <td>1.098612</td>\n",
              "      <td>1.357822</td>\n",
              "      <td>-0.138187</td>\n",
              "    </tr>\n",
              "  </tbody>\n",
              "</table>\n",
              "</div>"
            ],
            "text/plain": [
              "     total_bill   tip     sex smoker  day    time  size  total_bill_L  \\\n",
              "151       13.13  2.00    Male     No  Sun  Dinner     2      2.574900   \n",
              "34        17.78  3.27    Male     No  Sat  Dinner     2      2.878074   \n",
              "109       14.31  4.00  Female    Yes  Sat  Dinner     2      2.660959   \n",
              "4         24.59  3.61  Female     No  Sun  Dinner     4      3.202340   \n",
              "114       25.71  4.00  Female     No  Sun  Dinner     3      3.246880   \n",
              "\n",
              "        tip_L    size_L       PC1       PC2  \n",
              "151  0.693147  0.693147 -1.172280  0.064256  \n",
              "34   1.184790  0.693147 -0.105055 -0.718159  \n",
              "109  1.386294  0.693147 -0.141578 -0.947225  \n",
              "4    1.283708  1.386294  1.647817  0.705635  \n",
              "114  1.386294  1.098612  1.357822 -0.138187  "
            ]
          },
          "metadata": {},
          "output_type": "display_data"
        },
        {
          "data": {
            "text/html": [
              "<div>\n",
              "<style scoped>\n",
              "    .dataframe tbody tr th:only-of-type {\n",
              "        vertical-align: middle;\n",
              "    }\n",
              "\n",
              "    .dataframe tbody tr th {\n",
              "        vertical-align: top;\n",
              "    }\n",
              "\n",
              "    .dataframe thead th {\n",
              "        text-align: right;\n",
              "    }\n",
              "</style>\n",
              "<table border=\"1\" class=\"dataframe\">\n",
              "  <thead>\n",
              "    <tr style=\"text-align: right;\">\n",
              "      <th></th>\n",
              "      <th>total_bill</th>\n",
              "      <th>tip</th>\n",
              "      <th>sex</th>\n",
              "      <th>smoker</th>\n",
              "      <th>day</th>\n",
              "      <th>time</th>\n",
              "      <th>size</th>\n",
              "      <th>total_bill_L</th>\n",
              "      <th>tip_L</th>\n",
              "      <th>size_L</th>\n",
              "      <th>PC1</th>\n",
              "      <th>PC2</th>\n",
              "    </tr>\n",
              "  </thead>\n",
              "  <tbody>\n",
              "    <tr>\n",
              "      <th>5</th>\n",
              "      <td>25.29</td>\n",
              "      <td>4.71</td>\n",
              "      <td>Male</td>\n",
              "      <td>No</td>\n",
              "      <td>Sun</td>\n",
              "      <td>Dinner</td>\n",
              "      <td>4</td>\n",
              "      <td>3.230409</td>\n",
              "      <td>1.549688</td>\n",
              "      <td>1.386294</td>\n",
              "      <td>2.036449</td>\n",
              "      <td>0.318831</td>\n",
              "    </tr>\n",
              "    <tr>\n",
              "      <th>7</th>\n",
              "      <td>26.88</td>\n",
              "      <td>3.12</td>\n",
              "      <td>Male</td>\n",
              "      <td>No</td>\n",
              "      <td>Sun</td>\n",
              "      <td>Dinner</td>\n",
              "      <td>4</td>\n",
              "      <td>3.291383</td>\n",
              "      <td>1.137833</td>\n",
              "      <td>1.386294</td>\n",
              "      <td>1.579667</td>\n",
              "      <td>0.889747</td>\n",
              "    </tr>\n",
              "    <tr>\n",
              "      <th>8</th>\n",
              "      <td>15.04</td>\n",
              "      <td>1.96</td>\n",
              "      <td>Male</td>\n",
              "      <td>No</td>\n",
              "      <td>Sun</td>\n",
              "      <td>Dinner</td>\n",
              "      <td>2</td>\n",
              "      <td>2.710713</td>\n",
              "      <td>0.672944</td>\n",
              "      <td>0.693147</td>\n",
              "      <td>-1.010287</td>\n",
              "      <td>0.056616</td>\n",
              "    </tr>\n",
              "    <tr>\n",
              "      <th>11</th>\n",
              "      <td>35.26</td>\n",
              "      <td>5.00</td>\n",
              "      <td>Female</td>\n",
              "      <td>No</td>\n",
              "      <td>Sun</td>\n",
              "      <td>Dinner</td>\n",
              "      <td>4</td>\n",
              "      <td>3.562749</td>\n",
              "      <td>1.609438</td>\n",
              "      <td>1.386294</td>\n",
              "      <td>2.576390</td>\n",
              "      <td>0.144441</td>\n",
              "    </tr>\n",
              "    <tr>\n",
              "      <th>19</th>\n",
              "      <td>20.65</td>\n",
              "      <td>3.35</td>\n",
              "      <td>Male</td>\n",
              "      <td>No</td>\n",
              "      <td>Sat</td>\n",
              "      <td>Dinner</td>\n",
              "      <td>3</td>\n",
              "      <td>3.027715</td>\n",
              "      <td>1.208960</td>\n",
              "      <td>1.098612</td>\n",
              "      <td>0.820425</td>\n",
              "      <td>0.173497</td>\n",
              "    </tr>\n",
              "  </tbody>\n",
              "</table>\n",
              "</div>"
            ],
            "text/plain": [
              "    total_bill   tip     sex smoker  day    time  size  total_bill_L  \\\n",
              "5        25.29  4.71    Male     No  Sun  Dinner     4      3.230409   \n",
              "7        26.88  3.12    Male     No  Sun  Dinner     4      3.291383   \n",
              "8        15.04  1.96    Male     No  Sun  Dinner     2      2.710713   \n",
              "11       35.26  5.00  Female     No  Sun  Dinner     4      3.562749   \n",
              "19       20.65  3.35    Male     No  Sat  Dinner     3      3.027715   \n",
              "\n",
              "       tip_L    size_L       PC1       PC2  \n",
              "5   1.549688  1.386294  2.036449  0.318831  \n",
              "7   1.137833  1.386294  1.579667  0.889747  \n",
              "8   0.672944  0.693147 -1.010287  0.056616  \n",
              "11  1.609438  1.386294  2.576390  0.144441  \n",
              "19  1.208960  1.098612  0.820425  0.173497  "
            ]
          },
          "metadata": {},
          "output_type": "display_data"
        }
      ],
      "source": [
        "np.random.seed(101)\n",
        "sample = np.random.choice(datos.index, size=int(0.8 * len(datos)), replace=False)\n",
        "train = datos.loc[sample]\n",
        "test = datos.drop(sample)\n",
        "display(train.head())\n",
        "display(test.head())"
      ]
    },
    {
      "cell_type": "markdown",
      "metadata": {
        "id": "uGMnnppGy76w"
      },
      "source": [
        "## **No existencia de Multicolinealidad**\n",
        "\n",
        "Realizamos nuevamente la regresión ya sin la multicolinealidad"
      ]
    },
    {
      "cell_type": "markdown",
      "metadata": {
        "id": "8qQQMTxf3DUI"
      },
      "source": [
        "**El modelo con el PCA**"
      ]
    },
    {
      "cell_type": "code",
      "execution_count": 23,
      "metadata": {
        "colab": {
          "base_uri": "https://localhost:8080/",
          "height": 386
        },
        "id": "0fIhtvgZP693",
        "outputId": "0f6fa777-13f8-4100-ced7-0f2a7e4efa7f"
      },
      "outputs": [
        {
          "data": {
            "text/html": [
              "<div>\n",
              "<style scoped>\n",
              "    .dataframe tbody tr th:only-of-type {\n",
              "        vertical-align: middle;\n",
              "    }\n",
              "\n",
              "    .dataframe tbody tr th {\n",
              "        vertical-align: top;\n",
              "    }\n",
              "\n",
              "    .dataframe thead th {\n",
              "        text-align: right;\n",
              "    }\n",
              "</style>\n",
              "<table border=\"1\" class=\"dataframe\">\n",
              "  <thead>\n",
              "    <tr style=\"text-align: right;\">\n",
              "      <th></th>\n",
              "      <th>sum_sq</th>\n",
              "      <th>df</th>\n",
              "      <th>F</th>\n",
              "      <th>PR(&gt;F)</th>\n",
              "    </tr>\n",
              "  </thead>\n",
              "  <tbody>\n",
              "    <tr>\n",
              "      <th>PC1</th>\n",
              "      <td>26.321908</td>\n",
              "      <td>1.0</td>\n",
              "      <td>1455.997788</td>\n",
              "      <td>1.430241e-91</td>\n",
              "    </tr>\n",
              "    <tr>\n",
              "      <th>PC2</th>\n",
              "      <td>7.888629</td>\n",
              "      <td>1.0</td>\n",
              "      <td>436.359951</td>\n",
              "      <td>2.551693e-51</td>\n",
              "    </tr>\n",
              "    <tr>\n",
              "      <th>Residual</th>\n",
              "      <td>3.471026</td>\n",
              "      <td>192.0</td>\n",
              "      <td>NaN</td>\n",
              "      <td>NaN</td>\n",
              "    </tr>\n",
              "  </tbody>\n",
              "</table>\n",
              "</div>"
            ],
            "text/plain": [
              "             sum_sq     df            F        PR(>F)\n",
              "PC1       26.321908    1.0  1455.997788  1.430241e-91\n",
              "PC2        7.888629    1.0   436.359951  2.551693e-51\n",
              "Residual   3.471026  192.0          NaN           NaN"
            ]
          },
          "metadata": {},
          "output_type": "display_data"
        },
        {
          "name": "stdout",
          "output_type": "stream",
          "text": [
            "\n",
            "🧠 Interpretación del ANOVA del modelo con PCA:\n",
            "\n",
            "🔹 Componente: PC1\n",
            "   - Valor F: 1456.00\n",
            "   - Valor p: 1.43e-91\n",
            "   ✅ Este componente es estadísticamente significativo para explicar 'tip_L'.\n",
            "\n",
            "🔹 Componente: PC2\n",
            "   - Valor F: 436.36\n",
            "   - Valor p: 2.55e-51\n",
            "   ✅ Este componente es estadísticamente significativo para explicar 'tip_L'.\n",
            "\n",
            "🧾 Residual: Sin prueba de significancia (es la varianza no explicada del modelo).\n"
          ]
        }
      ],
      "source": [
        "# 📌 Modelo de regresión múltiple con dos componentes principales (PCA)\n",
        "formula_PCA = 'tip_L ~ PC1 + PC2'\n",
        "model_PCA = sm.formula.ols(formula_PCA, data=train).fit()\n",
        "\n",
        "# 📊 ANOVA para evaluar la significancia global del modelo\n",
        "aov_table = sm.stats.anova_lm(model_PCA, typ=2)\n",
        "display(aov_table)\n",
        "\n",
        "# 🧠 Interpretación automática del ANOVA\n",
        "print(\"\\n🧠 Interpretación del ANOVA del modelo con PCA:\")\n",
        "for index, row in aov_table.iterrows():\n",
        "    if pd.notnull(row['PR(>F)']):\n",
        "        p_value = row['PR(>F)']\n",
        "        f_stat = row['F']\n",
        "        print(f\"\\n🔹 Componente: {index}\")\n",
        "        print(f\"   - Valor F: {f_stat:.2f}\")\n",
        "        print(f\"   - Valor p: {p_value:.2e}\")\n",
        "\n",
        "        if p_value < 0.05:\n",
        "            print(\"   ✅ Este componente es estadísticamente significativo para explicar 'tip_L'.\")\n",
        "        else:\n",
        "            print(\"   ⚠️ Este componente NO es estadísticamente significativo.\")\n",
        "    else:\n",
        "        print(f\"\\n🧾 Residual: Sin prueba de significancia (es la varianza no explicada del modelo).\")\n"
      ]
    },
    {
      "cell_type": "code",
      "execution_count": 24,
      "metadata": {
        "colab": {
          "base_uri": "https://localhost:8080/"
        },
        "id": "q9sMPLVZzxQc",
        "outputId": "17de891e-e255-4ba8-9fc9-cd2592cce0d1"
      },
      "outputs": [
        {
          "name": "stdout",
          "output_type": "stream",
          "text": [
            "                            OLS Regression Results                            \n",
            "==============================================================================\n",
            "Dep. Variable:                  tip_L   R-squared:                       0.906\n",
            "Model:                            OLS   Adj. R-squared:                  0.905\n",
            "Method:                 Least Squares   F-statistic:                     920.8\n",
            "Date:                Mon, 06 Oct 2025   Prob (F-statistic):           4.03e-99\n",
            "Time:                        18:32:50   Log-Likelihood:                 116.09\n",
            "No. Observations:                 195   AIC:                            -226.2\n",
            "Df Residuals:                     192   BIC:                            -216.4\n",
            "Df Model:                           2                                         \n",
            "Covariance Type:            nonrobust                                         \n",
            "==============================================================================\n",
            "                 coef    std err          t      P>|t|      [0.025      0.975]\n",
            "------------------------------------------------------------------------------\n",
            "Intercept      0.9990      0.010    103.647      0.000       0.980       1.018\n",
            "PC1            0.2493      0.007     38.158      0.000       0.236       0.262\n",
            "PC2           -0.2742      0.013    -20.889      0.000      -0.300      -0.248\n",
            "==============================================================================\n",
            "Omnibus:                       18.218   Durbin-Watson:                   1.980\n",
            "Prob(Omnibus):                  0.000   Jarque-Bera (JB):               38.374\n",
            "Skew:                          -0.419   Prob(JB):                     4.65e-09\n",
            "Kurtosis:                       5.005   Cond. No.                         2.01\n",
            "==============================================================================\n",
            "\n",
            "Notes:\n",
            "[1] Standard Errors assume that the covariance matrix of the errors is correctly specified.\n",
            "\n",
            "🧠 Interpretación del modelo con componentes principales (PCA):\n",
            "\n",
            "🔹 Variable: Intercept\n",
            "   - Coeficiente: 0.9990\n",
            "   - Error estándar: 0.0096\n",
            "   - Valor p: 0.0000\n",
            "   - Nivel de significancia: 🚀 Altamente significativo\n",
            "   📍 El valor promedio de 'tip_L' cuando todas las variables son 0 es 0.9990.\n",
            "\n",
            "🔹 Variable: PC1\n",
            "   - Coeficiente: 0.2493\n",
            "   - Error estándar: 0.0065\n",
            "   - Valor p: 0.0000\n",
            "   - Nivel de significancia: 🚀 Altamente significativo\n",
            "   ➕ Un aumento en 'PC1' se asocia con un cambio de 0.2493 en 'tip_L', manteniendo constantes los demás componentes.\n",
            "\n",
            "🔹 Variable: PC2\n",
            "   - Coeficiente: -0.2742\n",
            "   - Error estándar: 0.0131\n",
            "   - Valor p: 0.0000\n",
            "   - Nivel de significancia: 🚀 Altamente significativo\n",
            "   ➕ Un aumento en 'PC2' se asocia con un cambio de -0.2742 en 'tip_L', manteniendo constantes los demás componentes.\n"
          ]
        }
      ],
      "source": [
        "# 📋 Obtener el resumen del modelo\n",
        "summary_PCA = model_PCA.summary()\n",
        "print(summary_PCA)\n",
        "\n",
        "# 🧠 Interpretación automatizada\n",
        "print(\"\\n🧠 Interpretación del modelo con componentes principales (PCA):\")\n",
        "coefs = model_PCA.params\n",
        "pvalues = model_PCA.pvalues\n",
        "std_err = model_PCA.bse\n",
        "\n",
        "for var in coefs.index:\n",
        "    coef = coefs[var]\n",
        "    pval = pvalues[var]\n",
        "    err = std_err[var]\n",
        "\n",
        "    print(f\"\\n🔹 Variable: {var}\")\n",
        "    print(f\"   - Coeficiente: {coef:.4f}\")\n",
        "    print(f\"   - Error estándar: {err:.4f}\")\n",
        "    print(f\"   - Valor p: {pval:.4f}\")\n",
        "\n",
        "    if pval < 0.001:\n",
        "        nivel = \"🚀 Altamente significativo\"\n",
        "    elif pval < 0.05:\n",
        "        nivel = \"✅ Significativo\"\n",
        "    elif pval < 0.1:\n",
        "        nivel = \"⚠️ Marginalmente significativo\"\n",
        "    else:\n",
        "        nivel = \"❌ No significativo\"\n",
        "\n",
        "    interpretacion = (\n",
        "        f\"   ➕ Un aumento en '{var}' se asocia con un cambio de {coef:.4f} en 'tip_L', \"\n",
        "        \"manteniendo constantes los demás componentes.\" if var != 'Intercept'\n",
        "        else f\"   📍 El valor promedio de 'tip_L' cuando todas las variables son 0 es {coef:.4f}.\"\n",
        "    )\n",
        "\n",
        "    print(f\"   - Nivel de significancia: {nivel}\")\n",
        "    print(interpretacion)\n"
      ]
    },
    {
      "cell_type": "markdown",
      "metadata": {
        "id": "KjRXvoQOz72X"
      },
      "source": [
        "## **Validación de supuestos: ya no validamos multicolinealidad**"
      ]
    },
    {
      "cell_type": "markdown",
      "metadata": {
        "id": "Hs8U13XXqfKh"
      },
      "source": [
        "## **Correcta especificación del modelo**"
      ]
    },
    {
      "cell_type": "markdown",
      "metadata": {
        "id": "8DhH49mSqzSQ"
      },
      "source": [
        "**Planteamos las hipótesis**\n",
        "\n",
        " $$ H_{0}:\\text{El modelo se encuentra correctamente especificado}$$\n",
        " $$ H_{1}:\\text{El modelo se NO encuentra correctamente especificado}$$\n",
        "\n",
        " Si el valor p es menor a 0.05 se debe rechazar H0"
      ]
    },
    {
      "cell_type": "code",
      "execution_count": 25,
      "metadata": {
        "colab": {
          "base_uri": "https://localhost:8080/"
        },
        "id": "YPcpDoXLk2n6",
        "outputId": "33705c18-3b30-42d4-bb1a-f318b648f68b"
      },
      "outputs": [
        {
          "name": "stdout",
          "output_type": "stream",
          "text": [
            "<F test: F=2.7680686496474456, p=0.09780195073831535, df_denom=191, df_num=1>\n",
            "\n",
            "🧠 Interpretación automática de la prueba RESET de Ramsey:\n",
            "\n",
            "📊 Estadístico F: 2.7681\n",
            "📉 Valor p: 0.0978\n",
            "\n",
            "✅ Como el valor p ≥ 0.05, no se rechaza H₀.\n",
            "   ↪ El modelo parece estar correctamente especificado bajo los supuestos actuales.\n",
            "   🧩 No hay evidencia suficiente para afirmar que falten relaciones importantes.\n"
          ]
        }
      ],
      "source": [
        "# 🔍 Prueba RESET de Ramsey para el modelo PCA\n",
        "reset_result = linear_reset(model_PCA, power=2, use_f=True)\n",
        "print(reset_result)\n",
        "\n",
        "# 🧠 Interpretación automática\n",
        "print(\"\\n🧠 Interpretación automática de la prueba RESET de Ramsey:\")\n",
        "\n",
        "f_stat = reset_result.fvalue\n",
        "p_val = reset_result.pvalue\n",
        "alpha = 0.05\n",
        "\n",
        "print(f\"\\n📊 Estadístico F: {f_stat:.4f}\")\n",
        "print(f\"📉 Valor p: {p_val:.4f}\")\n",
        "\n",
        "if p_val < alpha:\n",
        "    print(f\"\\n❌ Como el valor p < {alpha}, rechazamos H₀.\")\n",
        "    print(\"   ↪ Esto sugiere que el modelo puede estar mal especificado. Podría faltar alguna variable o relación no lineal.\")\n",
        "    print(\"   🔁 Se recomienda revisar si faltan variables importantes o si hay que aplicar transformaciones.\")\n",
        "else:\n",
        "    print(f\"\\n✅ Como el valor p ≥ {alpha}, no se rechaza H₀.\")\n",
        "    print(\"   ↪ El modelo parece estar correctamente especificado bajo los supuestos actuales.\")\n",
        "    print(\"   🧩 No hay evidencia suficiente para afirmar que falten relaciones importantes.\")\n"
      ]
    },
    {
      "cell_type": "markdown",
      "metadata": {
        "id": "DqJYbC58rvLl"
      },
      "source": [
        "Como 0.200068 > 0.05 no se debe rechazar H0, entonces el modelo con PCA se encuentra correctamente especificado =)\n"
      ]
    },
    {
      "cell_type": "markdown",
      "metadata": {
        "id": "IazzzJEOsBcp"
      },
      "source": [
        "## **Homoscedasticidad de los residuales**"
      ]
    },
    {
      "cell_type": "markdown",
      "metadata": {
        "id": "2kWRW4MTsLyd"
      },
      "source": [
        "**Planteamos las hipótesis**\n",
        "\n",
        " $$ H_{0}:\\text{Homoscedasticidad en los residuales}$$\n",
        " $$ H_{1}:\\text{Heteroscedasticidad en los residuales}$$\n",
        "\n",
        " Si el valor p es menor a 0.05 se debe rechazar H0"
      ]
    },
    {
      "cell_type": "code",
      "execution_count": 26,
      "metadata": {
        "colab": {
          "base_uri": "https://localhost:8080/"
        },
        "id": "2ub_vSiClysc",
        "outputId": "16fdaa01-a551-4d7e-d995-e09bb493fe66"
      },
      "outputs": [
        {
          "name": "stdout",
          "output_type": "stream",
          "text": [
            "📊 Estadístico LM: 0.2042, p-valor LM: 0.9991\n",
            "📊 Estadístico F: 0.0396, p-valor F: 0.9991\n",
            "\n",
            "🧠 Interpretación automática de la prueba de White:\n",
            "\n",
            "✅ No se rechaza H₀ (p-valores LM = 0.9991, F = 0.9991)\n",
            "   ↪ No hay evidencia de heterocedasticidad en los residuos.\n",
            "   ✅ Los errores parecen tener varianza constante.\n",
            "   🧩 El modelo es estadísticamente sólido en este aspecto.\n"
          ]
        }
      ],
      "source": [
        "# 📌 Prueba de White para homocedasticidad en el modelo PCA\n",
        "resid = model_PCA.resid\n",
        "exog = model_PCA.model.exog\n",
        "\n",
        "white_test = het_white(resid, exog)\n",
        "lm_stat, lm_pvalue, f_stat, f_pvalue = white_test\n",
        "\n",
        "print(f\"📊 Estadístico LM: {lm_stat:.4f}, p-valor LM: {lm_pvalue:.4f}\")\n",
        "print(f\"📊 Estadístico F: {f_stat:.4f}, p-valor F: {f_pvalue:.4f}\")\n",
        "\n",
        "# 🧠 Interpretación automática\n",
        "print(\"\\n🧠 Interpretación automática de la prueba de White:\")\n",
        "\n",
        "alpha = 0.05\n",
        "\n",
        "if lm_pvalue < alpha or f_pvalue < alpha:\n",
        "    print(f\"\\n❌ Se rechaza H₀ con p-valor LM = {lm_pvalue:.4f} o p-valor F = {f_pvalue:.4f}\")\n",
        "    print(\"   ↪ Existe evidencia de heterocedasticidad en los residuos del modelo.\")\n",
        "    print(\"   ⚠️ Esto podría afectar la validez de las inferencias estadísticas.\")\n",
        "    print(\"   🔍 Considera usar correcciones robustas o revisar variables omitidas.\")\n",
        "else:\n",
        "    print(f\"\\n✅ No se rechaza H₀ (p-valores LM = {lm_pvalue:.4f}, F = {f_pvalue:.4f})\")\n",
        "    print(\"   ↪ No hay evidencia de heterocedasticidad en los residuos.\")\n",
        "    print(\"   ✅ Los errores parecen tener varianza constante.\")\n",
        "    print(\"   🧩 El modelo es estadísticamente sólido en este aspecto.\")\n"
      ]
    },
    {
      "cell_type": "markdown",
      "metadata": {
        "id": "uPFAfPVutDak"
      },
      "source": [
        "## **No autocorrelación en los residuales**"
      ]
    },
    {
      "cell_type": "markdown",
      "metadata": {
        "id": "Ciuk6UrLtYLt"
      },
      "source": [
        "**Planteamos las hipótesis**\n",
        "\n",
        " $$ H_{0}:\\text{Independencia en los residuales}$$\n",
        " $$ H_{1}:\\text{Independencia en los residuales}$$\n",
        "\n",
        " Si el valor p es menor a 0.05 se debe rechazar H0"
      ]
    },
    {
      "cell_type": "code",
      "execution_count": 27,
      "metadata": {
        "colab": {
          "base_uri": "https://localhost:8080/",
          "height": 410
        },
        "id": "aKFjhJNztjEN",
        "outputId": "23a20f88-9e03-445b-ceda-c07d3b0927d2"
      },
      "outputs": [
        {
          "data": {
            "image/png": "[encoded data removed]",
            "text/plain": [
              "<Figure size 800x400 with 1 Axes>"
            ]
          },
          "metadata": {},
          "output_type": "display_data"
        }
      ],
      "source": [
        "#El gráfico de residuos con PCA\n",
        "residuosPCA = model_PCA.resid\n",
        "\n",
        "plt.figure(figsize=(8, 4))\n",
        "plt.scatter(range(len(residuosPCA)), residuosPCA, color='blue')\n",
        "plt.axhline(0, color='red', linestyle='--')\n",
        "plt.title(\"Residuos\")\n",
        "plt.xlabel(\"Índice\")\n",
        "plt.ylabel(\"Residuo\")\n",
        "plt.show()"
      ]
    },
    {
      "cell_type": "code",
      "execution_count": 28,
      "metadata": {
        "colab": {
          "base_uri": "https://localhost:8080/"
        },
        "id": "FrUFhPTJtx2O",
        "outputId": "ce4c8542-bce6-4b83-9404-03f74ecf04d4"
      },
      "outputs": [
        {
          "name": "stdout",
          "output_type": "stream",
          "text": [
            "📊 Estadístico Z = -0.2545, p-valor = 0.7991\n",
            "\n",
            "🧠 Interpretación automática del Runs Test:\n",
            "✅ No se rechaza H₀ (p-valor = 0.7991)\n",
            "   ↪ No hay evidencia de autocorrelación en los residuos.\n",
            "   ✅ Los residuos se comportan como ruido aleatorio.\n"
          ]
        }
      ],
      "source": [
        "# 🧪 Runs test (Prueba de rachas) para autocorrelación en residuos\n",
        "z_stat, p_value = runstest_1samp(residuosPCA)\n",
        "\n",
        "print(f\"📊 Estadístico Z = {z_stat:.4f}, p-valor = {p_value:.4f}\")\n",
        "print(\"\\n🧠 Interpretación automática del Runs Test:\")\n",
        "\n",
        "alpha = 0.05\n",
        "\n",
        "if p_value < alpha:\n",
        "    print(f\"❌ Se rechaza H₀ con p-valor = {p_value:.4f}\")\n",
        "    print(\"   ↪ Hay evidencia de autocorrelación en los residuos.\")\n",
        "    print(\"   ⚠️ Esto podría indicar patrones no capturados por el modelo.\")\n",
        "    print(\"   🔍 Considera revisar la estructura temporal o agregar variables.\")\n",
        "else:\n",
        "    print(f\"✅ No se rechaza H₀ (p-valor = {p_value:.4f})\")\n",
        "    print(\"   ↪ No hay evidencia de autocorrelación en los residuos.\")\n",
        "    print(\"   ✅ Los residuos se comportan como ruido aleatorio.\")\n"
      ]
    },
    {
      "cell_type": "markdown",
      "metadata": {
        "id": "8WdHz3lpukeJ"
      },
      "source": [
        "## **Normalidad de los residuales**"
      ]
    },
    {
      "cell_type": "markdown",
      "metadata": {
        "id": "wJcrt0pxurV1"
      },
      "source": [
        "**Planteamos las hipótesis**\n",
        "\n",
        " $$ H_{0}:\\text{Los residuos provienen de una distribución Normal}$$\n",
        " $$ H_{1}:\\text{Los residuos NO provienen de una distribución Normal}$$\n",
        "\n",
        " Si el valor p es menor a 0.05 se debe rechazar H0"
      ]
    },
    {
      "cell_type": "code",
      "execution_count": 29,
      "metadata": {
        "colab": {
          "base_uri": "https://localhost:8080/"
        },
        "id": "ybtFp5trm8xn",
        "outputId": "3628df2d-8b2a-4218-ad37-598b0d639a88"
      },
      "outputs": [
        {
          "name": "stdout",
          "output_type": "stream",
          "text": [
            "📊 KS estadístico: 0.0795, p-valor: 0.1615\n",
            "\n",
            "🧠 Interpretación automática de la prueba de normalidad:\n",
            "✅ No se rechaza H₀ (p-valor = 0.1615)\n",
            "   ↪ Los residuos pueden considerarse provenientes de una distribución normal.\n",
            "   👍 Esto respalda los supuestos clásicos del modelo lineal.\n"
          ]
        }
      ],
      "source": [
        "# 🧪 Prueba de normalidad (Kolmogorov-Smirnov) para residuos\n",
        "ks_stat, p_value = kstest(residuosPCA, 'norm', args=(np.mean(residuosPCA), np.std(residuosPCA, ddof=1)))\n",
        "\n",
        "print(f\"📊 KS estadístico: {ks_stat:.4f}, p-valor: {p_value:.4f}\")\n",
        "print(\"\\n🧠 Interpretación automática de la prueba de normalidad:\")\n",
        "\n",
        "alpha = 0.05\n",
        "\n",
        "if p_value < alpha:\n",
        "    print(f\"❌ Se rechaza H₀ con p-valor = {p_value:.4f}\")\n",
        "    print(\"   ↪ Los residuos NO siguen una distribución normal.\")\n",
        "    print(\"   ⚠️ Esto puede afectar la validez de los intervalos de confianza o pruebas estadísticas.\")\n",
        "else:\n",
        "    print(f\"✅ No se rechaza H₀ (p-valor = {p_value:.4f})\")\n",
        "    print(\"   ↪ Los residuos pueden considerarse provenientes de una distribución normal.\")\n",
        "    print(\"   👍 Esto respalda los supuestos clásicos del modelo lineal.\")\n"
      ]
    },
    {
      "cell_type": "markdown",
      "metadata": {},
      "source": [
        "# **MLFLOW**"
      ]
    },
    {
      "cell_type": "markdown",
      "metadata": {},
      "source": [
        "**Definir el servidor**"
      ]
    },
    {
      "cell_type": "code",
      "execution_count": 30,
      "metadata": {},
      "outputs": [],
      "source": [
        "mlflow.set_tracking_uri(\"http://127.0.0.1:5000\")"
      ]
    },
    {
      "cell_type": "code",
      "execution_count": 31,
      "metadata": {},
      "outputs": [
        {
          "name": "stdout",
          "output_type": "stream",
          "text": [
            "tracking URI: 'http://127.0.0.1:5000'\n"
          ]
        }
      ],
      "source": [
        "print(f\"tracking URI: '{mlflow.get_tracking_uri()}'\")"
      ]
    },
    {
      "cell_type": "code",
      "execution_count": 33,
      "metadata": {},
      "outputs": [
        {
          "data": {
            "text/plain": [
              "[<Experiment: artifact_location='mlflow-artifacts:/1', creation_time=1759541492183, experiment_id='1', last_update_time=1759541492183, lifecycle_stage='active', name='proyecto-propinas', tags={'mlflow.experimentKind': 'custom_model_development'}>,\n",
              " <Experiment: artifact_location='mlflow-artifacts:/0', creation_time=1759537511393, experiment_id='0', last_update_time=1759537511393, lifecycle_stage='active', name='Default', tags={}>]"
            ]
          },
          "execution_count": 33,
          "metadata": {},
          "output_type": "execute_result"
        }
      ],
      "source": [
        "mlflow.search_experiments()"
      ]
    },
    {
      "cell_type": "markdown",
      "metadata": {},
      "source": [
        "**Regresion Multiple con PCA**"
      ]
    },
    {
      "cell_type": "code",
      "execution_count": 34,
      "metadata": {},
      "outputs": [
        {
          "name": "stderr",
          "output_type": "stream",
          "text": [
            "2025/10/06 18:39:14 INFO mlflow.tracking.fluent: Autologging successfully enabled for sklearn.\n",
            "2025/10/06 18:39:14 INFO mlflow.tracking.fluent: Autologging successfully enabled for statsmodels.\n",
            "2025/10/06 18:39:15 WARNING mlflow.models.model: `artifact_path` is deprecated. Please use `name` instead.\n",
            "2025/10/06 18:39:41 WARNING mlflow.models.model: Model logged without a signature and input example. Please set `input_example` parameter when logging the model to auto infer the model signature.\n"
          ]
        },
        {
          "data": {
            "text/html": [
              "<div>\n",
              "<style scoped>\n",
              "    .dataframe tbody tr th:only-of-type {\n",
              "        vertical-align: middle;\n",
              "    }\n",
              "\n",
              "    .dataframe tbody tr th {\n",
              "        vertical-align: top;\n",
              "    }\n",
              "\n",
              "    .dataframe thead th {\n",
              "        text-align: right;\n",
              "    }\n",
              "</style>\n",
              "<table border=\"1\" class=\"dataframe\">\n",
              "  <thead>\n",
              "    <tr style=\"text-align: right;\">\n",
              "      <th></th>\n",
              "      <th>sum_sq</th>\n",
              "      <th>df</th>\n",
              "      <th>F</th>\n",
              "      <th>PR(&gt;F)</th>\n",
              "    </tr>\n",
              "  </thead>\n",
              "  <tbody>\n",
              "    <tr>\n",
              "      <th>PC1</th>\n",
              "      <td>26.321908</td>\n",
              "      <td>1.0</td>\n",
              "      <td>1455.997788</td>\n",
              "      <td>1.430241e-91</td>\n",
              "    </tr>\n",
              "    <tr>\n",
              "      <th>PC2</th>\n",
              "      <td>7.888629</td>\n",
              "      <td>1.0</td>\n",
              "      <td>436.359951</td>\n",
              "      <td>2.551693e-51</td>\n",
              "    </tr>\n",
              "    <tr>\n",
              "      <th>Residual</th>\n",
              "      <td>3.471026</td>\n",
              "      <td>192.0</td>\n",
              "      <td>NaN</td>\n",
              "      <td>NaN</td>\n",
              "    </tr>\n",
              "  </tbody>\n",
              "</table>\n",
              "</div>"
            ],
            "text/plain": [
              "             sum_sq     df            F        PR(>F)\n",
              "PC1       26.321908    1.0  1455.997788  1.430241e-91\n",
              "PC2        7.888629    1.0   436.359951  2.551693e-51\n",
              "Residual   3.471026  192.0          NaN           NaN"
            ]
          },
          "metadata": {},
          "output_type": "display_data"
        },
        {
          "name": "stdout",
          "output_type": "stream",
          "text": [
            "\n",
            "🧠 Interpretación del ANOVA del modelo con PCA:\n",
            "\n",
            "🔹 Componente: PC1\n",
            "   - Valor F: 1456.00\n",
            "   - Valor p: 1.43e-91\n",
            "   ✅ Este componente es estadísticamente significativo para explicar 'tip_L'.\n",
            "\n",
            "🔹 Componente: PC2\n",
            "   - Valor F: 436.36\n",
            "   - Valor p: 2.55e-51\n",
            "   ✅ Este componente es estadísticamente significativo para explicar 'tip_L'.\n",
            "\n",
            "🧾 Residual: Sin prueba de significancia (es la varianza no explicada del modelo).\n",
            "                            OLS Regression Results                            \n",
            "==============================================================================\n",
            "Dep. Variable:                  tip_L   R-squared:                       0.906\n",
            "Model:                            OLS   Adj. R-squared:                  0.905\n",
            "Method:                 Least Squares   F-statistic:                     920.8\n",
            "Date:                Mon, 06 Oct 2025   Prob (F-statistic):           4.03e-99\n",
            "Time:                        18:39:47   Log-Likelihood:                 116.09\n",
            "No. Observations:                 195   AIC:                            -226.2\n",
            "Df Residuals:                     192   BIC:                            -216.4\n",
            "Df Model:                           2                                         \n",
            "Covariance Type:            nonrobust                                         \n",
            "==============================================================================\n",
            "                 coef    std err          t      P>|t|      [0.025      0.975]\n",
            "------------------------------------------------------------------------------\n",
            "Intercept      0.9990      0.010    103.647      0.000       0.980       1.018\n",
            "PC1            0.2493      0.007     38.158      0.000       0.236       0.262\n",
            "PC2           -0.2742      0.013    -20.889      0.000      -0.300      -0.248\n",
            "==============================================================================\n",
            "Omnibus:                       18.218   Durbin-Watson:                   1.980\n",
            "Prob(Omnibus):                  0.000   Jarque-Bera (JB):               38.374\n",
            "Skew:                          -0.419   Prob(JB):                     4.65e-09\n",
            "Kurtosis:                       5.005   Cond. No.                         2.01\n",
            "==============================================================================\n",
            "\n",
            "Notes:\n",
            "[1] Standard Errors assume that the covariance matrix of the errors is correctly specified.\n",
            "🏃 View run modelo_PCA at: http://127.0.0.1:5000/#/experiments/1/runs/32fcc35f570d488ea8935aff151604c5\n",
            "🧪 View experiment at: http://127.0.0.1:5000/#/experiments/1\n"
          ]
        }
      ],
      "source": [
        "experiment_name = \"proyecto-propinas\"\n",
        "mlflow.set_experiment(experiment_name)\n",
        "mlflow.autolog()\n",
        "\n",
        "with mlflow.start_run(run_name=\"modelo_PCA\") as run:\n",
        "  \n",
        "    formula_PCA = 'tip_L ~ PC1 + PC2'\n",
        "    model_PCA = sm.formula.ols(formula_PCA, data=train).fit()\n",
        "\n",
        "    # 📊 ANOVA para evaluar la significancia global del modelo\n",
        "    aov_table = sm.stats.anova_lm(model_PCA, typ=2)\n",
        "    display(aov_table)\n",
        "\n",
        "    y_true = train['tip_L']\n",
        "    y_pred = model_PCA.predict(train)\n",
        "    rmse = np.sqrt(np.mean((y_true - y_pred)**2))\n",
        "    mse = mean_squared_error(y_true, y_pred)\n",
        "    mae = mean_absolute_error(y_true, y_pred)\n",
        "    r2_adj = model_PCA.rsquared_adj\n",
        "\n",
        "    mlflow.log_metric(\"rmse\", float(rmse))\n",
        "    mlflow.log_metric(\"MSE\", float(mse))\n",
        "    mlflow.log_metric(\"MAE\", float(mae))\n",
        "    mlflow.log_metric(\"R2_adj\", float(r2_adj))\n",
        "    mlflow.log_metric(\"model_fvalue\", float(model_PCA.fvalue))\n",
        "    mlflow.log_metric(\"model_f_pvalue\", float(model_PCA.f_pvalue))\n",
        "\n",
        "    # 🧠 Interpretación automática del ANOVA\n",
        "    print(\"\\n🧠 Interpretación del ANOVA del modelo con PCA:\")\n",
        "    for index, row in aov_table.iterrows():\n",
        "        if pd.notnull(row['PR(>F)']):\n",
        "            p_value = row['PR(>F)']\n",
        "            f_stat = row['F']\n",
        "            print(f\"\\n🔹 Componente: {index}\")\n",
        "            print(f\"   - Valor F: {f_stat:.2f}\")\n",
        "            print(f\"   - Valor p: {p_value:.2e}\")\n",
        "\n",
        "            if p_value < 0.05:\n",
        "                print(\"   ✅ Este componente es estadísticamente significativo para explicar 'tip_L'.\")\n",
        "                \n",
        "            else:\n",
        "                print(\"   ⚠️ Este componente NO es estadísticamente significativo.\")\n",
        "        else:\n",
        "            print(f\"\\n🧾 Residual: Sin prueba de significancia (es la varianza no explicada del modelo).\")\n",
        "\n",
        "    \n",
        "# Mostrar resumen del modelo\n",
        "    summary_PCA = model_PCA.summary()\n",
        "    print(summary_PCA)\n",
        "  \n",
        "\n",
        "\n",
        "\n",
        "\n",
        "\n"
      ]
    },
    {
      "cell_type": "markdown",
      "metadata": {},
      "source": [
        "**Regresion Multiple sin PCA**"
      ]
    },
    {
      "cell_type": "code",
      "execution_count": 35,
      "metadata": {},
      "outputs": [
        {
          "name": "stderr",
          "output_type": "stream",
          "text": [
            "2025/10/06 18:39:54 INFO mlflow.tracking.fluent: Autologging successfully enabled for sklearn.\n",
            "2025/10/06 18:39:54 INFO mlflow.tracking.fluent: Autologging successfully enabled for statsmodels.\n",
            "2025/10/06 18:39:54 WARNING mlflow.models.model: `artifact_path` is deprecated. Please use `name` instead.\n",
            "2025/10/06 18:40:06 WARNING mlflow.models.model: Model logged without a signature and input example. Please set `input_example` parameter when logging the model to auto infer the model signature.\n"
          ]
        },
        {
          "data": {
            "text/html": [
              "<div>\n",
              "<style scoped>\n",
              "    .dataframe tbody tr th:only-of-type {\n",
              "        vertical-align: middle;\n",
              "    }\n",
              "\n",
              "    .dataframe tbody tr th {\n",
              "        vertical-align: top;\n",
              "    }\n",
              "\n",
              "    .dataframe thead th {\n",
              "        text-align: right;\n",
              "    }\n",
              "</style>\n",
              "<table border=\"1\" class=\"dataframe\">\n",
              "  <thead>\n",
              "    <tr style=\"text-align: right;\">\n",
              "      <th></th>\n",
              "      <th>sum_sq</th>\n",
              "      <th>df</th>\n",
              "      <th>F</th>\n",
              "      <th>PR(&gt;F)</th>\n",
              "    </tr>\n",
              "  </thead>\n",
              "  <tbody>\n",
              "    <tr>\n",
              "      <th>total_bill_L</th>\n",
              "      <td>7.157521</td>\n",
              "      <td>1.0</td>\n",
              "      <td>64.368522</td>\n",
              "      <td>9.983559e-14</td>\n",
              "    </tr>\n",
              "    <tr>\n",
              "      <th>size_L</th>\n",
              "      <td>0.445431</td>\n",
              "      <td>1.0</td>\n",
              "      <td>4.005820</td>\n",
              "      <td>4.675146e-02</td>\n",
              "    </tr>\n",
              "    <tr>\n",
              "      <th>Residual</th>\n",
              "      <td>21.349629</td>\n",
              "      <td>192.0</td>\n",
              "      <td>NaN</td>\n",
              "      <td>NaN</td>\n",
              "    </tr>\n",
              "  </tbody>\n",
              "</table>\n",
              "</div>"
            ],
            "text/plain": [
              "                 sum_sq     df          F        PR(>F)\n",
              "total_bill_L   7.157521    1.0  64.368522  9.983559e-14\n",
              "size_L         0.445431    1.0   4.005820  4.675146e-02\n",
              "Residual      21.349629  192.0        NaN           NaN"
            ]
          },
          "metadata": {},
          "output_type": "display_data"
        },
        {
          "name": "stdout",
          "output_type": "stream",
          "text": [
            "                            OLS Regression Results                            \n",
            "==============================================================================\n",
            "Dep. Variable:                  tip_L   R-squared:                       0.419\n",
            "Model:                            OLS   Adj. R-squared:                  0.413\n",
            "Method:                 Least Squares   F-statistic:                     69.30\n",
            "Date:                Mon, 06 Oct 2025   Prob (F-statistic):           2.20e-23\n",
            "Time:                        18:40:09   Log-Likelihood:                -61.026\n",
            "No. Observations:                 195   AIC:                             128.1\n",
            "Df Residuals:                     192   BIC:                             137.9\n",
            "Df Model:                           2                                         \n",
            "Covariance Type:            nonrobust                                         \n",
            "================================================================================\n",
            "                   coef    std err          t      P>|t|      [0.025      0.975]\n",
            "--------------------------------------------------------------------------------\n",
            "Intercept       -0.7562      0.164     -4.602      0.000      -1.080      -0.432\n",
            "total_bill_L     0.5484      0.068      8.023      0.000       0.414       0.683\n",
            "size_L           0.1810      0.090      2.001      0.047       0.003       0.359\n",
            "==============================================================================\n",
            "Omnibus:                        5.502   Durbin-Watson:                   2.104\n",
            "Prob(Omnibus):                  0.064   Jarque-Bera (JB):                7.329\n",
            "Skew:                          -0.140   Prob(JB):                       0.0256\n",
            "Kurtosis:                       3.908   Cond. No.                         24.2\n",
            "==============================================================================\n",
            "\n",
            "Notes:\n",
            "[1] Standard Errors assume that the covariance matrix of the errors is correctly specified.\n",
            "🏃 View run Reg_mult_sinPCA at: http://127.0.0.1:5000/#/experiments/1/runs/92deee2992b14fb29e9d6a6507eaab84\n",
            "🧪 View experiment at: http://127.0.0.1:5000/#/experiments/1\n"
          ]
        }
      ],
      "source": [
        "experiment_name = \"proyecto-propinas\"\n",
        "mlflow.set_experiment(experiment_name)\n",
        "mlflow.autolog()\n",
        "\n",
        "# Finaliza cualquier run activa antes de iniciar una nueva\n",
        "if mlflow.active_run() is not None:\n",
        "    mlflow.end_run()\n",
        "\n",
        "with mlflow.start_run(run_name=\"Reg_mult_sinPCA\") as run:\n",
        "    formula_m = 'tip_L ~ total_bill_L+size_L'\n",
        "    model_m = sm.formula.ols(formula_m, data=train).fit()\n",
        "    aov_table_m =  sm.stats.anova_lm(model_m,typ=2)\n",
        "    display(aov_table_m)\n",
        "    \n",
        "    y_true = train['tip_L']\n",
        "    y_pred = model_m.predict(train)\n",
        "    rmse = np.sqrt(np.mean((y_true - y_pred)**2))\n",
        "    mse = mean_squared_error(y_true, y_pred)\n",
        "    mae = mean_absolute_error(y_true, y_pred)\n",
        "    r2_adj = model_m.rsquared_adj\n",
        "\n",
        "    mlflow.log_metric(\"rmse\", float(rmse))\n",
        "    mlflow.log_metric(\"MSE\", float(mse))\n",
        "    mlflow.log_metric(\"MAE\", float(mae))\n",
        "    mlflow.log_metric(\"R2_adj\", float(r2_adj))\n",
        "\n",
        "\n",
        "# Mostrar resumen del modelo\n",
        "    summary_m = model_m.summary()\n",
        "    print(summary_m)"
      ]
    }
  ],
  "metadata": {
    "colab": {
      "provenance": [],
      "toc_visible": true
    },
    "kernelspec": {
      "display_name": "mlops udm",
      "language": "python",
      "name": "mlops-udm"
    },
    "language_info": {
      "codemirror_mode": {
        "name": "ipython",
        "version": 3
      },
      "file_extension": ".py",
      "mimetype": "text/x-python",
      "name": "python",
      "nbconvert_exporter": "python",
      "pygments_lexer": "ipython3",
      "version": "3.13.2"
    }
  },
  "nbformat": 4,
  "nbformat_minor": 0
}
