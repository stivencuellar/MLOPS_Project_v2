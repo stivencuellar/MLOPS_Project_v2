{
 "cells": [
  {
   "cell_type": "markdown",
   "id": "09bd69b8",
   "metadata": {},
   "source": [
    "## Instalaciones"
   ]
  },
  {
   "cell_type": "code",
   "execution_count": 2,
   "id": "4d4464ec",
   "metadata": {},
   "outputs": [
    {
     "name": "stdout",
     "output_type": "stream",
     "text": [
      "Note: you may need to restart the kernel to use updated packages.\n"
     ]
    },
    {
     "name": "stderr",
     "output_type": "stream",
     "text": [
      "c:\\Users\\marin\\OneDrive\\Desktop\\UdeM\\Nube\\Clase_1_2_3\\Clases\\MLOps_UdM\\.venv\\Scripts\\python.exe: No module named pip\n"
     ]
    }
   ],
   "source": [
    "# %pip install caas_jupyter_tools\n",
    "%pip install openpyxl\n",
    "#terminal: python -m pip install --user openpyxl"
   ]
  },
  {
   "cell_type": "markdown",
   "id": "68f51895",
   "metadata": {},
   "source": [
    "## Librerias"
   ]
  },
  {
   "cell_type": "code",
   "execution_count": null,
   "id": "9171a0a4",
   "metadata": {},
   "outputs": [],
   "source": [
    "import openpyxl\n",
    "from collections import Counter\n",
    "import re\n",
    "import pandas as pd, unicodedata, re"
   ]
  },
  {
   "cell_type": "code",
   "execution_count": null,
   "id": "6af56ee2",
   "metadata": {},
   "outputs": [
    {
     "data": {
      "text/html": [
       "<div>\n",
       "<style scoped>\n",
       "    .dataframe tbody tr th:only-of-type {\n",
       "        vertical-align: middle;\n",
       "    }\n",
       "\n",
       "    .dataframe tbody tr th {\n",
       "        vertical-align: top;\n",
       "    }\n",
       "\n",
       "    .dataframe thead th {\n",
       "        text-align: right;\n",
       "    }\n",
       "</style>\n",
       "<table border=\"1\" class=\"dataframe\">\n",
       "  <thead>\n",
       "    <tr style=\"text-align: right;\">\n",
       "      <th></th>\n",
       "      <th>Etiqueta</th>\n",
       "      <th>Frecuencia</th>\n",
       "    </tr>\n",
       "  </thead>\n",
       "  <tbody>\n",
       "    <tr>\n",
       "      <th>0</th>\n",
       "      <td>Otros</td>\n",
       "      <td>49886</td>\n",
       "    </tr>\n",
       "    <tr>\n",
       "      <th>1</th>\n",
       "      <td>Soporte</td>\n",
       "      <td>39794</td>\n",
       "    </tr>\n",
       "    <tr>\n",
       "      <th>2</th>\n",
       "      <td>Portafolio</td>\n",
       "      <td>23123</td>\n",
       "    </tr>\n",
       "    <tr>\n",
       "      <th>3</th>\n",
       "      <td>Infraestructura</td>\n",
       "      <td>18814</td>\n",
       "    </tr>\n",
       "  </tbody>\n",
       "</table>\n",
       "</div>"
      ],
      "text/plain": [
       "          Etiqueta  Frecuencia\n",
       "0            Otros       49886\n",
       "1          Soporte       39794\n",
       "2       Portafolio       23123\n",
       "3  Infraestructura       18814"
      ]
     },
     "execution_count": 2,
     "metadata": {},
     "output_type": "execute_result"
    }
   ],
   "source": [
    "# 1) Leer archivo\n",
    "df = pd.read_excel(\"Consolidado_GPON_Final-1.xlsx\", engine='openpyxl')\n",
    "col = \"OBSERVACION TERRENO\"\n",
    "if col not in df.columns:\n",
    "    raise ValueError(f\"No se encontró la columna '{col}'. Columnas disponibles: {df.columns.tolist()}\")\n",
    "\n",
    "# 2) Normalización\n",
    "def normalize(txt):\n",
    "    txt = str(txt).lower()\n",
    "    txt = unicodedata.normalize(\"NFKD\", txt)\n",
    "    txt = \"\".join(ch for ch in txt if not unicodedata.combining(ch))\n",
    "    return re.sub(r\"[^a-z0-9ñü\\s]\", \" \", txt)\n",
    "\n",
    "texts = df[col].dropna().astype(str).map(normalize)\n",
    "\n",
    "# 3) Buckets de palabras clave (ya definidos)\n",
    "buckets = {\n",
    "    \"Portafolio\": [\n",
    "        \"cambio equipo\",\"wifi\",\"decos\",\"canales\",\"canales premium\",\"cantidad\",\"sport wins\",\"hbo\",\"megas\",\n",
    "        \"velocidad\",\"velocidad contratada\",\"contraseña\",\"validacion general\",\"mac\",\"co creada\",\n",
    "        \"portafolio de equipo\",\"canal de win\",\"win+\"\n",
    "    ],\n",
    "    \"Soporte\": [\n",
    "        \"aprov\",\"aprovionamiento\",\"activar\",\"aprovisionar\",\"cam_eq\",\"cambio equipo\",\"cierre cbapon\",\n",
    "        \"cod_comp\",\"configurar vlan\",\"contingencia\",\"estabilizar pon\",\"ip navegacion\",\"puertos lan\",\n",
    "        \"reenvio registros\",\"validacion general\",\"cambio ont\",\"cambio modem\",\"conexion en tr\",\"reaprovisiona\",\n",
    "        \"reaprov\",\"aprovisionamiento\",\"activar decos\",\"instalar\",\"instalacion\",\"eliminar vlan\",\"crear vlan\",\n",
    "        \"chuze la ont\",\"chuzar ont\",\"chuze ont\",\"configurar puerto\",\"clave incorrecta\",\"modo bris\",\n",
    "        \"aproviciona\",\"aprovicionamiento\",\"avilitar\",\"configurar línea\",\"c629\",\"estavilizar pon\",\"equipo quemado\",\"equipo quemado\"\n",
    "    ],\n",
    "    \"Infraestructura\": [\n",
    "        \"sin cobertura\",\"red ocupada\",\"nap trocado\",\"actualizar infra\",\n",
    "        \"informacion infraestructura\",\"infraestructura\"\n",
    "    ]\n",
    "}\n",
    "buckets = {k: [normalize(w) for w in v] for k, v in buckets.items()}\n",
    "\n",
    "# 4) Función de etiquetado\n",
    "def suggest_label(text):\n",
    "    scores = {k: 0 for k in buckets}\n",
    "    for k, kws in buckets.items():\n",
    "        for kw in kws:\n",
    "            if kw in text:\n",
    "                scores[k] += 1\n",
    "    best = max(scores, key=scores.get)\n",
    "    return best if scores[best] > 0 else \"Otros\"\n",
    "\n",
    "# 5) Agregar columna de etiqueta al final\n",
    "df[\"Etiqueta\"] = df[col].map(lambda x: suggest_label(normalize(x)))\n",
    "df[\"Etiqueta\"].value_counts().rename_axis(\"Etiqueta\").reset_index(name=\"Frecuencia\")\n",
    "\n",
    "# 6) Exportar dataset etiquetado\n",
    "# df.to_excel(\"Consolidado_GPON_Final_etiquetado.xlsx\", index=False)\n",
    "# print(\"✅ Archivo exportado: Consolidado_GPON_Final_etiquetado.xlsx\")"
   ]
  }
 ],
 "metadata": {
  "kernelspec": {
   "display_name": "Python 3",
   "language": "python",
   "name": "python3"
  },
  "language_info": {
   "codemirror_mode": {
    "name": "ipython",
    "version": 3
   },
   "file_extension": ".py",
   "mimetype": "text/x-python",
   "name": "python",
   "nbconvert_exporter": "python",
   "pygments_lexer": "ipython3",
   "version": "3.11.9"
  }
 },
 "nbformat": 4,
 "nbformat_minor": 5
}
