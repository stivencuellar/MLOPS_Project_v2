{
 "cells": [
  {
   "cell_type": "code",
   "execution_count": 2,
   "id": "4d4464ec",
   "metadata": {},
   "outputs": [
    {
     "name": "stdout",
     "output_type": "stream",
     "text": [
      "Note: you may need to restart the kernel to use updated packages.\n"
     ]
    },
    {
     "name": "stderr",
     "output_type": "stream",
     "text": [
      "c:\\Users\\marin\\OneDrive\\Desktop\\UdeM\\Nube\\Clase_1_2_3\\Clases\\MLOps_UdM\\.venv\\Scripts\\python.exe: No module named pip\n"
     ]
    }
   ],
   "source": [
    "# %pip install caas_jupyter_tools\n",
    "%pip install openpyxl\n",
    "#terminal: python -m pip install --user openpyxl"
   ]
  },
  {
   "cell_type": "code",
   "execution_count": 1,
   "id": "9171a0a4",
   "metadata": {},
   "outputs": [],
   "source": [
    "import openpyxl"
   ]
  },
  {
   "cell_type": "code",
   "execution_count": null,
   "id": "b12d14ba",
   "metadata": {},
   "outputs": [
    {
     "data": {
      "text/plain": [
       "'Propuesta de etiquetas heurísticas (telecomunicaciones)'"
      ]
     },
     "metadata": {},
     "output_type": "display_data"
    },
    {
     "data": {
      "text/html": [
       "<div>\n",
       "<style scoped>\n",
       "    .dataframe tbody tr th:only-of-type {\n",
       "        vertical-align: middle;\n",
       "    }\n",
       "\n",
       "    .dataframe tbody tr th {\n",
       "        vertical-align: top;\n",
       "    }\n",
       "\n",
       "    .dataframe thead th {\n",
       "        text-align: right;\n",
       "    }\n",
       "</style>\n",
       "<table border=\"1\" class=\"dataframe\">\n",
       "  <thead>\n",
       "    <tr style=\"text-align: right;\">\n",
       "      <th></th>\n",
       "      <th>Etiqueta sugerida</th>\n",
       "      <th>Frecuencia</th>\n",
       "    </tr>\n",
       "  </thead>\n",
       "  <tbody>\n",
       "    <tr>\n",
       "      <th>0</th>\n",
       "      <td>Reemplazo de equipos (ONT/decodificadores)</td>\n",
       "      <td>614</td>\n",
       "    </tr>\n",
       "    <tr>\n",
       "      <th>1</th>\n",
       "      <td>Problemas de conectividad (señal PON inestable)</td>\n",
       "      <td>298</td>\n",
       "    </tr>\n",
       "    <tr>\n",
       "      <th>2</th>\n",
       "      <td>Verificación de plan o servicios contratados</td>\n",
       "      <td>250</td>\n",
       "    </tr>\n",
       "    <tr>\n",
       "      <th>3</th>\n",
       "      <td>Aprovisionamiento de servicios</td>\n",
       "      <td>124</td>\n",
       "    </tr>\n",
       "    <tr>\n",
       "      <th>4</th>\n",
       "      <td>Actualización de infraestructura (cambio de pu...</td>\n",
       "      <td>123</td>\n",
       "    </tr>\n",
       "    <tr>\n",
       "      <th>5</th>\n",
       "      <td>Otros</td>\n",
       "      <td>87</td>\n",
       "    </tr>\n",
       "    <tr>\n",
       "      <th>6</th>\n",
       "      <td>Verificación de datos técnicos y soporte puntual</td>\n",
       "      <td>36</td>\n",
       "    </tr>\n",
       "  </tbody>\n",
       "</table>\n",
       "</div>"
      ],
      "text/plain": [
       "                                   Etiqueta sugerida  Frecuencia\n",
       "0         Reemplazo de equipos (ONT/decodificadores)         614\n",
       "1    Problemas de conectividad (señal PON inestable)         298\n",
       "2       Verificación de plan o servicios contratados         250\n",
       "3                     Aprovisionamiento de servicios         124\n",
       "4  Actualización de infraestructura (cambio de pu...         123\n",
       "5                                              Otros          87\n",
       "6   Verificación de datos técnicos y soporte puntual          36"
      ]
     },
     "metadata": {},
     "output_type": "display_data"
    }
   ],
   "source": [
    "# Reejecutar el análisis heurístico con el nuevo archivo adjunto para proponer etiquetas iniciales\n",
    "import pandas as pd\n",
    "from collections import Counter\n",
    "import re\n",
    "\n",
    "# from caas_jupyter_tools import display_dataframe_to_user\n",
    "\n",
    "# Leer el archivo adjunto\n",
    "df2 = pd.read_excel(\"Libro3.xlsx\", engine=\"openpyxl\")\n",
    "\n",
    "# Asegurar que la columna exista\n",
    "col = \"OBSERVACION TERRENO\"\n",
    "if col not in df2.columns:\n",
    "    raise ValueError(f\"No se encontró la columna '{col}'. Columnas disponibles: {df2.columns.tolist()}\")\n",
    "\n",
    "# Normalizar texto\n",
    "texts = df2[col].dropna().astype(str).str.lower().str.replace(r\"[^a-z0-9áéíóúñü\\s]\", \" \", regex=True)\n",
    "\n",
    "# Buckets de palabras clave basados en el contexto de telecomunicaciones\n",
    "buckets = {\n",
    "    \"Verificación de datos técnicos y soporte puntual\": [\n",
    "        \"verific\", \"soporte\", \"revis\", \"prueba\", \"parametros\", \"diagnostico\", \"medicion\", \"visita\", \"verificar\"\n",
    "    ],\n",
    "    \"Verificación de plan o servicios contratados\": [\n",
    "        \"plan\", \"paquete\", \"servicio\", \"contrato\", \"velocidad\", \"plan contratado\", \"subir\", \"upgrade\"\n",
    "    ],\n",
    "    \"Problemas de conectividad (señal PON inestable)\": [\n",
    "        \"pon\", \"señal\", \"inestable\", \"sin servicio\", \"intermitencia\", \"desconect\", \"no navega\", \"caida\", \"sin conexion\"\n",
    "    ],\n",
    "    \"Reemplazo de equipos (ONT/decodificadores)\": [\n",
    "        \"ont\", \"deco\", \"router\", \"equipo\", \"modem\", \"cambio\", \"reemplazo\", \"instalar\", \"instalacion\"\n",
    "    ],\n",
    "    \"Actualización de infraestructura (cambio de puertos GPON)\": [\n",
    "        \"gpon\", \"puerto\", \"nodo\", \"splitter\", \"fibra\", \"red\", \"infraestructura\", \"migracion\", \"actualizacion\"\n",
    "    ],\n",
    "    \"Aprovisionamiento de servicios\": [\n",
    "        \"aprovision\", \"provision\", \"alta\", \"activar\", \"subida\", \"configuracion\", \"nueva conexion\", \"creacion\"\n",
    "    ]\n",
    "}\n",
    "\n",
    "# Función heurística para asignar etiquetas\n",
    "def suggest_label(text):\n",
    "    scores = {k: 0 for k in buckets}\n",
    "    for k, kws in buckets.items():\n",
    "        for kw in kws:\n",
    "            if kw in text:\n",
    "                scores[k] += 1\n",
    "    best = max(scores, key=scores.get)\n",
    "    return best if scores[best] > 0 else \"Otros\"\n",
    "\n",
    "# Aplicar a todas las observaciones\n",
    "labels_suggested = texts.apply(suggest_label)\n",
    "label_counts = labels_suggested.value_counts().rename_axis(\"Etiqueta sugerida\").reset_index(name=\"Frecuencia\")\n",
    "\n",
    "# Mostrar resultados resumidos\n",
    "display(\"Propuesta de etiquetas heurísticas (telecomunicaciones)\", label_counts.head(20))\n",
    "\n",
    "# Exportar a Excel\n",
    "# df.to_excel(\"Libro3_etiquetado.xlsx\", index=False)\n"
   ]
  }
 ],
 "metadata": {
  "kernelspec": {
   "display_name": "Python 3",
   "language": "python",
   "name": "python3"
  },
  "language_info": {
   "codemirror_mode": {
    "name": "ipython",
    "version": 3
   },
   "file_extension": ".py",
   "mimetype": "text/x-python",
   "name": "python",
   "nbconvert_exporter": "python",
   "pygments_lexer": "ipython3",
   "version": "3.11.9"
  }
 },
 "nbformat": 4,
 "nbformat_minor": 5
}
