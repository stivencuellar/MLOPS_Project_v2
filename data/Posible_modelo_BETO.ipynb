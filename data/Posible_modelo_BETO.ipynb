{
 "cells": [
  {
   "cell_type": "markdown",
   "id": "b33303bc",
   "metadata": {},
   "source": [
    "## Instalaciones"
   ]
  },
  {
   "cell_type": "code",
   "execution_count": null,
   "id": "fa0d76e2",
   "metadata": {},
   "outputs": [],
   "source": [
    "%pip install datasets\n",
    "%pip install transformers\n",
    "%pip install transformers datasets torch"
   ]
  },
  {
   "cell_type": "markdown",
   "id": "a6c54f24",
   "metadata": {},
   "source": [
    "## Librerias"
   ]
  },
  {
   "cell_type": "code",
   "execution_count": 4,
   "id": "9293cc12",
   "metadata": {},
   "outputs": [],
   "source": [
    "import pandas as pd\n",
    "from datasets import Dataset\n",
    "from transformers import AutoTokenizer, AutoModelForSequenceClassification, Trainer, TrainingArguments\n",
    "from sklearn.model_selection import train_test_split"
   ]
  },
  {
   "cell_type": "code",
   "execution_count": null,
   "id": "c534bbc4",
   "metadata": {},
   "outputs": [
    {
     "name": "stderr",
     "output_type": "stream",
     "text": [
      "c:\\Users\\marin\\AppData\\Local\\Programs\\Python\\Python311\\Lib\\site-packages\\huggingface_hub\\file_download.py:143: UserWarning: `huggingface_hub` cache-system uses symlinks by default to efficiently store duplicated files but your machine does not support them in C:\\Users\\marin\\.cache\\huggingface\\hub\\models--dccuchile--bert-base-spanish-wwm-cased. Caching files will still work but in a degraded version that might require more space on your disk. This warning can be disabled by setting the `HF_HUB_DISABLE_SYMLINKS_WARNING` environment variable. For more details, see https://huggingface.co/docs/huggingface_hub/how-to-cache#limitations.\n",
      "To support symlinks on Windows, you either need to activate Developer Mode or to run Python as an administrator. In order to activate developer mode, see this article: https://docs.microsoft.com/en-us/windows/apps/get-started/enable-your-device-for-development\n",
      "  warnings.warn(message)\n",
      "Map: 100%|██████████| 105279/105279 [00:23<00:00, 4533.98 examples/s]\n",
      "Map: 100%|██████████| 26320/26320 [00:06<00:00, 4360.26 examples/s]\n",
      "Xet Storage is enabled for this repo, but the 'hf_xet' package is not installed. Falling back to regular HTTP download. For better performance, install the package with: `pip install huggingface_hub[hf_xet]` or `pip install hf_xet`\n",
      "Some weights of BertForSequenceClassification were not initialized from the model checkpoint at dccuchile/bert-base-spanish-wwm-cased and are newly initialized: ['bert.pooler.dense.bias', 'bert.pooler.dense.weight', 'classifier.bias', 'classifier.weight']\n",
      "You should probably TRAIN this model on a down-stream task to be able to use it for predictions and inference.\n"
     ]
    },
    {
     "ename": "TypeError",
     "evalue": "TrainingArguments.__init__() got an unexpected keyword argument 'evaluation_strategy'",
     "output_type": "error",
     "traceback": [
      "\u001b[31m---------------------------------------------------------------------------\u001b[39m",
      "\u001b[31mTypeError\u001b[39m                                 Traceback (most recent call last)",
      "\u001b[36mCell\u001b[39m\u001b[36m \u001b[39m\u001b[32mIn[6]\u001b[39m\u001b[32m, line 58\u001b[39m\n\u001b[32m     55\u001b[39m model = AutoModelForSequenceClassification.from_pretrained(MODEL, num_labels=\u001b[38;5;28mlen\u001b[39m(labels), id2label=id2label, label2id=label2id)\n\u001b[32m     57\u001b[39m \u001b[38;5;66;03m# 6) Entrenamiento mínimo\u001b[39;00m\n\u001b[32m---> \u001b[39m\u001b[32m58\u001b[39m args = \u001b[43mTrainingArguments\u001b[49m\u001b[43m(\u001b[49m\n\u001b[32m     59\u001b[39m \u001b[43m    \u001b[49m\u001b[43moutput_dir\u001b[49m\u001b[43m=\u001b[49m\u001b[33;43m\"\u001b[39;49m\u001b[33;43m./results\u001b[39;49m\u001b[33;43m\"\u001b[39;49m\u001b[43m,\u001b[49m\n\u001b[32m     60\u001b[39m \u001b[43m    \u001b[49m\u001b[43mevaluation_strategy\u001b[49m\u001b[43m=\u001b[49m\u001b[33;43m\"\u001b[39;49m\u001b[33;43mepoch\u001b[39;49m\u001b[33;43m\"\u001b[39;49m\u001b[43m,\u001b[49m\n\u001b[32m     61\u001b[39m \u001b[43m    \u001b[49m\u001b[43mlogging_steps\u001b[49m\u001b[43m=\u001b[49m\u001b[32;43m50\u001b[39;49m\u001b[43m,\u001b[49m\n\u001b[32m     62\u001b[39m \u001b[43m    \u001b[49m\u001b[43mnum_train_epochs\u001b[49m\u001b[43m=\u001b[49m\u001b[32;43m2\u001b[39;49m\u001b[43m,\u001b[49m\n\u001b[32m     63\u001b[39m \u001b[43m    \u001b[49m\u001b[43mper_device_train_batch_size\u001b[49m\u001b[43m=\u001b[49m\u001b[32;43m8\u001b[39;49m\u001b[43m,\u001b[49m\n\u001b[32m     64\u001b[39m \u001b[43m    \u001b[49m\u001b[43mper_device_eval_batch_size\u001b[49m\u001b[43m=\u001b[49m\u001b[32;43m8\u001b[39;49m\u001b[43m,\u001b[49m\n\u001b[32m     65\u001b[39m \u001b[43m    \u001b[49m\u001b[43mlearning_rate\u001b[49m\u001b[43m=\u001b[49m\u001b[32;43m2e-5\u001b[39;49m\u001b[43m,\u001b[49m\n\u001b[32m     66\u001b[39m \u001b[43m    \u001b[49m\u001b[43mweight_decay\u001b[49m\u001b[43m=\u001b[49m\u001b[32;43m0.01\u001b[39;49m\n\u001b[32m     67\u001b[39m \u001b[43m)\u001b[49m\n\u001b[32m     69\u001b[39m trainer = Trainer(model=model, args=args, train_dataset=train_ds, eval_dataset=test_ds)\n\u001b[32m     70\u001b[39m trainer.train()\n",
      "\u001b[31mTypeError\u001b[39m: TrainingArguments.__init__() got an unexpected keyword argument 'evaluation_strategy'"
     ]
    },
    {
     "name": "stderr",
     "output_type": "stream",
     "text": [
      "Xet Storage is enabled for this repo, but the 'hf_xet' package is not installed. Falling back to regular HTTP download. For better performance, install the package with: `pip install huggingface_hub[hf_xet]` or `pip install hf_xet`\n"
     ]
    }
   ],
   "source": [
    "COL = \"OBSERVACION TERRENO\"\n",
    "MODEL = \"dccuchile/bert-base-spanish-wwm-cased\"  # BETO\n",
    "\n",
    "# 1) Cargar datos\n",
    "df = pd.read_excel(\"Consolidado_GPON_Final-1.xlsx\", engine='openpyxl')\n",
    "df = df[[COL]].dropna().rename(columns={COL:\"text\"})\n",
    "\n",
    "# 2) Etiquetado débil (palabras clave simples)\n",
    "buckets = {\n",
    "    \"Portafolio\": [\n",
    "        \"cambio equipo\",\"wifi\",\"decos\",\"canales\",\"canales premium\",\"cantidad\",\"sport wins\",\"hbo\",\"megas\",\n",
    "        \"velocidad\",\"velocidad contratada\",\"contraseña\",\"validacion general\",\"mac\",\"co creada\",\"portafolio de equipo\"\n",
    "    ],\n",
    "    \"Soporte\": [\n",
    "        \"aprov\",\"aprovionamiento\",\"activar\",\"aprovisionar\",\"cam_eq\",\"cambio equipo\",\"cierre cbapon\",\"cod_comp\",\n",
    "        \"configurar vlan\",\"contingencia\",\"estabilizar pon\",\"ip navegacion\",\"puertos lan\",\"reenvio registros\",\n",
    "        \"validacion general\",\"cambio ont\",\"cambio modem\",\"conexion en tr\",\"reaprovisiona\",\"reaprov\",\n",
    "        \"aprovisionamiento\",\"activar decos\",\"instalar\",\"instalacion\", \"equipo quemado\"\n",
    "    ],\n",
    "    \"Infraestructura\": [\n",
    "        \"sin cobertura\",\"red ocupada\",\"nap trocado\",\"actualizar infra\",\"informacion infraestructura\",\"infraestructura\"\n",
    "    ]\n",
    "}\n",
    "def suggest_label(text):\n",
    "    t = str(text).lower()\n",
    "    scores = {k:0 for k in buckets}\n",
    "    for k, kws in buckets.items():\n",
    "        for kw in kws:\n",
    "            if kw in t:\n",
    "                scores[k] += 1\n",
    "    best = max(scores, key=scores.get)\n",
    "    return best if scores[best] > 0 else \"otros\"\n",
    "\n",
    "df[\"label_name\"] = df[\"text\"].apply(suggest_label)\n",
    "\n",
    "# 3) Mapear etiquetas a ids\n",
    "labels = sorted(df[\"label_name\"].unique())\n",
    "label2id = {name:i for i,name in enumerate(labels)}\n",
    "id2label = {i:name for name,i in label2id.items()}\n",
    "df[\"label\"] = df[\"label_name\"].map(label2id)\n",
    "\n",
    "# 4) Split\n",
    "train_df, test_df = train_test_split(df, test_size=0.2, random_state=42, stratify=df[\"label\"])\n",
    "train_ds = Dataset.from_pandas(train_df[[\"text\",\"label\"]].reset_index(drop=True))\n",
    "test_ds  = Dataset.from_pandas(test_df[[\"text\",\"label\"]].reset_index(drop=True))\n",
    "\n",
    "# 5) Tokenizador y modelo\n",
    "tok = AutoTokenizer.from_pretrained(MODEL)\n",
    "def tok_fn(batch):\n",
    "    return tok(batch[\"text\"], truncation=True, padding=True)\n",
    "\n",
    "train_ds = train_ds.map(tok_fn, batched=True)\n",
    "test_ds  = test_ds.map(tok_fn, batched=True)\n",
    "\n",
    "model = AutoModelForSequenceClassification.from_pretrained(MODEL, num_labels=len(labels), id2label=id2label, label2id=label2id)\n",
    "\n",
    "# 6) Entrenamiento mínimo\n",
    "args = TrainingArguments(\n",
    "    output_dir=\"./results\",\n",
    "    evaluation_strategy=\"epoch\",\n",
    "    logging_steps=50,\n",
    "    num_train_epochs=2,\n",
    "    per_device_train_batch_size=8,\n",
    "    per_device_eval_batch_size=8,\n",
    "    learning_rate=2e-5,\n",
    "    weight_decay=0.01\n",
    ")\n",
    "\n",
    "trainer = Trainer(model=model, args=args, train_dataset=train_ds, eval_dataset=test_ds)\n",
    "trainer.train()\n",
    "\n",
    "# 7) Ejemplo de inferencia\n",
    "pred = trainer.predict(test_ds.select(range(min(5, len(test_ds)))))\n",
    "import numpy as np\n",
    "y = pred.predictions.argmax(axis=1)\n",
    "print(\"\\nEtiquetas: \", id2label)\n",
    "print(\"Predicciones de ejemplo:\", y.tolist())\n"
   ]
  }
 ],
 "metadata": {
  "kernelspec": {
   "display_name": "Python 3",
   "language": "python",
   "name": "python3"
  },
  "language_info": {
   "codemirror_mode": {
    "name": "ipython",
    "version": 3
   },
   "file_extension": ".py",
   "mimetype": "text/x-python",
   "name": "python",
   "nbconvert_exporter": "python",
   "pygments_lexer": "ipython3",
   "version": "3.11.9"
  }
 },
 "nbformat": 4,
 "nbformat_minor": 5
}
